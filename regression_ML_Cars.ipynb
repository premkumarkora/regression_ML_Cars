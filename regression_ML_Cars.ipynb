{
  "nbformat": 4,
  "nbformat_minor": 0,
  "metadata": {
    "colab": {
      "provenance": [],
      "authorship_tag": "ABX9TyN7raZuSLdr0Lyqz1N4PnZF",
      "include_colab_link": true
    },
    "kernelspec": {
      "name": "python3",
      "display_name": "Python 3"
    },
    "language_info": {
      "name": "python"
    }
  },
  "cells": [
    {
      "cell_type": "markdown",
      "metadata": {
        "id": "view-in-github",
        "colab_type": "text"
      },
      "source": [
        "<a href=\"https://colab.research.google.com/github/premkumarkora/regression_ML_Cars/blob/main/regression_ML_Cars.ipynb\" target=\"_parent\"><img src=\"https://colab.research.google.com/assets/colab-badge.svg\" alt=\"Open In Colab\"/></a>"
      ]
    },
    {
      "cell_type": "markdown",
      "source": [
        "```\n",
        "1. Using cross_val_score to choose the best ML algo\n",
        "2. Feature Selection using backward elimination\n",
        "```"
      ],
      "metadata": {
        "id": "Z9sSyOi3-3ea"
      }
    },
    {
      "cell_type": "code",
      "source": [
        "from google.colab import drive\n",
        "drive.mount('/content/drive')"
      ],
      "metadata": {
        "colab": {
          "base_uri": "https://localhost:8080/"
        },
        "id": "1ZvI4_E6aG0O",
        "outputId": "4b42770e-d338-472f-8a98-9e5ec0800604"
      },
      "execution_count": 2,
      "outputs": [
        {
          "output_type": "stream",
          "name": "stdout",
          "text": [
            "Mounted at /content/drive\n"
          ]
        }
      ]
    },
    {
      "cell_type": "code",
      "execution_count": 3,
      "metadata": {
        "id": "XuoCUZb8RElA"
      },
      "outputs": [],
      "source": [
        "import pandas as pd\n",
        "import numpy as np\n",
        "\n",
        "import matplotlib.pyplot as plt\n",
        "import seaborn as sns\n",
        "%matplotlib inline\n",
        "\n",
        "from sklearn import preprocessing\n",
        "from sklearn.model_selection import cross_val_score\n",
        "from sklearn.model_selection import KFold\n",
        "from sklearn import metrics\n",
        "\n",
        "from sklearn.preprocessing import StandardScaler\n",
        "from sklearn.metrics import classification_report"
      ]
    },
    {
      "cell_type": "code",
      "source": [
        "location = \"/content/drive/My Drive/Colab Notebooks/data/auto-mpg.data\"\n",
        "df = pd.read_csv(location, sep='\\s+', header=None, \n",
        " names=['mpg', 'cylinders', 'displacement', 'horsepower', 'weight', 'acceleration', 'modelyear', 'origin', 'carname'])\n",
        "display(df.head(3))"
      ],
      "metadata": {
        "colab": {
          "base_uri": "https://localhost:8080/",
          "height": 143
        },
        "id": "j8batbrcaxsW",
        "outputId": "6d46558d-cbea-4fa7-a953-b7178f75929f"
      },
      "execution_count": 4,
      "outputs": [
        {
          "output_type": "display_data",
          "data": {
            "text/plain": [
              "    mpg  cylinders  displacement horsepower  weight  acceleration  modelyear  \\\n",
              "0  18.0          8         307.0      130.0  3504.0          12.0         70   \n",
              "1  15.0          8         350.0      165.0  3693.0          11.5         70   \n",
              "2  18.0          8         318.0      150.0  3436.0          11.0         70   \n",
              "\n",
              "   origin                    carname  \n",
              "0       1  chevrolet chevelle malibu  \n",
              "1       1          buick skylark 320  \n",
              "2       1         plymouth satellite  "
            ],
            "text/html": [
              "\n",
              "  <div id=\"df-e9057a97-2d1a-4e6c-a16f-7046f16f54dd\">\n",
              "    <div class=\"colab-df-container\">\n",
              "      <div>\n",
              "<style scoped>\n",
              "    .dataframe tbody tr th:only-of-type {\n",
              "        vertical-align: middle;\n",
              "    }\n",
              "\n",
              "    .dataframe tbody tr th {\n",
              "        vertical-align: top;\n",
              "    }\n",
              "\n",
              "    .dataframe thead th {\n",
              "        text-align: right;\n",
              "    }\n",
              "</style>\n",
              "<table border=\"1\" class=\"dataframe\">\n",
              "  <thead>\n",
              "    <tr style=\"text-align: right;\">\n",
              "      <th></th>\n",
              "      <th>mpg</th>\n",
              "      <th>cylinders</th>\n",
              "      <th>displacement</th>\n",
              "      <th>horsepower</th>\n",
              "      <th>weight</th>\n",
              "      <th>acceleration</th>\n",
              "      <th>modelyear</th>\n",
              "      <th>origin</th>\n",
              "      <th>carname</th>\n",
              "    </tr>\n",
              "  </thead>\n",
              "  <tbody>\n",
              "    <tr>\n",
              "      <th>0</th>\n",
              "      <td>18.0</td>\n",
              "      <td>8</td>\n",
              "      <td>307.0</td>\n",
              "      <td>130.0</td>\n",
              "      <td>3504.0</td>\n",
              "      <td>12.0</td>\n",
              "      <td>70</td>\n",
              "      <td>1</td>\n",
              "      <td>chevrolet chevelle malibu</td>\n",
              "    </tr>\n",
              "    <tr>\n",
              "      <th>1</th>\n",
              "      <td>15.0</td>\n",
              "      <td>8</td>\n",
              "      <td>350.0</td>\n",
              "      <td>165.0</td>\n",
              "      <td>3693.0</td>\n",
              "      <td>11.5</td>\n",
              "      <td>70</td>\n",
              "      <td>1</td>\n",
              "      <td>buick skylark 320</td>\n",
              "    </tr>\n",
              "    <tr>\n",
              "      <th>2</th>\n",
              "      <td>18.0</td>\n",
              "      <td>8</td>\n",
              "      <td>318.0</td>\n",
              "      <td>150.0</td>\n",
              "      <td>3436.0</td>\n",
              "      <td>11.0</td>\n",
              "      <td>70</td>\n",
              "      <td>1</td>\n",
              "      <td>plymouth satellite</td>\n",
              "    </tr>\n",
              "  </tbody>\n",
              "</table>\n",
              "</div>\n",
              "      <button class=\"colab-df-convert\" onclick=\"convertToInteractive('df-e9057a97-2d1a-4e6c-a16f-7046f16f54dd')\"\n",
              "              title=\"Convert this dataframe to an interactive table.\"\n",
              "              style=\"display:none;\">\n",
              "        \n",
              "  <svg xmlns=\"http://www.w3.org/2000/svg\" height=\"24px\"viewBox=\"0 0 24 24\"\n",
              "       width=\"24px\">\n",
              "    <path d=\"M0 0h24v24H0V0z\" fill=\"none\"/>\n",
              "    <path d=\"M18.56 5.44l.94 2.06.94-2.06 2.06-.94-2.06-.94-.94-2.06-.94 2.06-2.06.94zm-11 1L8.5 8.5l.94-2.06 2.06-.94-2.06-.94L8.5 2.5l-.94 2.06-2.06.94zm10 10l.94 2.06.94-2.06 2.06-.94-2.06-.94-.94-2.06-.94 2.06-2.06.94z\"/><path d=\"M17.41 7.96l-1.37-1.37c-.4-.4-.92-.59-1.43-.59-.52 0-1.04.2-1.43.59L10.3 9.45l-7.72 7.72c-.78.78-.78 2.05 0 2.83L4 21.41c.39.39.9.59 1.41.59.51 0 1.02-.2 1.41-.59l7.78-7.78 2.81-2.81c.8-.78.8-2.07 0-2.86zM5.41 20L4 18.59l7.72-7.72 1.47 1.35L5.41 20z\"/>\n",
              "  </svg>\n",
              "      </button>\n",
              "      \n",
              "  <style>\n",
              "    .colab-df-container {\n",
              "      display:flex;\n",
              "      flex-wrap:wrap;\n",
              "      gap: 12px;\n",
              "    }\n",
              "\n",
              "    .colab-df-convert {\n",
              "      background-color: #E8F0FE;\n",
              "      border: none;\n",
              "      border-radius: 50%;\n",
              "      cursor: pointer;\n",
              "      display: none;\n",
              "      fill: #1967D2;\n",
              "      height: 32px;\n",
              "      padding: 0 0 0 0;\n",
              "      width: 32px;\n",
              "    }\n",
              "\n",
              "    .colab-df-convert:hover {\n",
              "      background-color: #E2EBFA;\n",
              "      box-shadow: 0px 1px 2px rgba(60, 64, 67, 0.3), 0px 1px 3px 1px rgba(60, 64, 67, 0.15);\n",
              "      fill: #174EA6;\n",
              "    }\n",
              "\n",
              "    [theme=dark] .colab-df-convert {\n",
              "      background-color: #3B4455;\n",
              "      fill: #D2E3FC;\n",
              "    }\n",
              "\n",
              "    [theme=dark] .colab-df-convert:hover {\n",
              "      background-color: #434B5C;\n",
              "      box-shadow: 0px 1px 3px 1px rgba(0, 0, 0, 0.15);\n",
              "      filter: drop-shadow(0px 1px 2px rgba(0, 0, 0, 0.3));\n",
              "      fill: #FFFFFF;\n",
              "    }\n",
              "  </style>\n",
              "\n",
              "      <script>\n",
              "        const buttonEl =\n",
              "          document.querySelector('#df-e9057a97-2d1a-4e6c-a16f-7046f16f54dd button.colab-df-convert');\n",
              "        buttonEl.style.display =\n",
              "          google.colab.kernel.accessAllowed ? 'block' : 'none';\n",
              "\n",
              "        async function convertToInteractive(key) {\n",
              "          const element = document.querySelector('#df-e9057a97-2d1a-4e6c-a16f-7046f16f54dd');\n",
              "          const dataTable =\n",
              "            await google.colab.kernel.invokeFunction('convertToInteractive',\n",
              "                                                     [key], {});\n",
              "          if (!dataTable) return;\n",
              "\n",
              "          const docLinkHtml = 'Like what you see? Visit the ' +\n",
              "            '<a target=\"_blank\" href=https://colab.research.google.com/notebooks/data_table.ipynb>data table notebook</a>'\n",
              "            + ' to learn more about interactive tables.';\n",
              "          element.innerHTML = '';\n",
              "          dataTable['output_type'] = 'display_data';\n",
              "          await google.colab.output.renderOutput(dataTable, element);\n",
              "          const docLink = document.createElement('div');\n",
              "          docLink.innerHTML = docLinkHtml;\n",
              "          element.appendChild(docLink);\n",
              "        }\n",
              "      </script>\n",
              "    </div>\n",
              "  </div>\n",
              "  "
            ]
          },
          "metadata": {}
        }
      ]
    },
    {
      "cell_type": "markdown",
      "source": [
        "\n",
        "Data pre-processing and visualization\n",
        "Next, we check for any null, missing, incomplete, or inappropriate values using the following code:\n",
        "\n",
        "The first command will tell you whether there’s any missing value for any numerical data, not string data since string datatype data can be blank and this command doesn't capture that.\n",
        "\n",
        "The second command will tell you whether the datatype of every feature is as per our expectation i.e. we expect displacement, horsepower, mpg etc. to be numerical datatype (float/int). df.info()will help check whether the data type is exactly what we are expecting. Out put will be like:\n",
        "\n",
        "\n"
      ],
      "metadata": {
        "id": "Vb5Q0QLI_pwD"
      }
    },
    {
      "cell_type": "code",
      "source": [
        "df.isnull().sum()"
      ],
      "metadata": {
        "colab": {
          "base_uri": "https://localhost:8080/"
        },
        "id": "fXnSN8rS_pRl",
        "outputId": "5ae69aec-8720-476a-de43-4a11c1364aa7"
      },
      "execution_count": 5,
      "outputs": [
        {
          "output_type": "execute_result",
          "data": {
            "text/plain": [
              "mpg             0\n",
              "cylinders       0\n",
              "displacement    0\n",
              "horsepower      0\n",
              "weight          0\n",
              "acceleration    0\n",
              "modelyear       0\n",
              "origin          0\n",
              "carname         0\n",
              "dtype: int64"
            ]
          },
          "metadata": {},
          "execution_count": 5
        }
      ]
    },
    {
      "cell_type": "code",
      "source": [
        "df.dtypes"
      ],
      "metadata": {
        "colab": {
          "base_uri": "https://localhost:8080/"
        },
        "id": "9H1pRqbGATGg",
        "outputId": "90deab15-c7c8-4aae-f83c-2d767aa68075"
      },
      "execution_count": 6,
      "outputs": [
        {
          "output_type": "execute_result",
          "data": {
            "text/plain": [
              "mpg             float64\n",
              "cylinders         int64\n",
              "displacement    float64\n",
              "horsepower       object\n",
              "weight          float64\n",
              "acceleration    float64\n",
              "modelyear         int64\n",
              "origin            int64\n",
              "carname          object\n",
              "dtype: object"
            ]
          },
          "metadata": {},
          "execution_count": 6
        }
      ]
    },
    {
      "cell_type": "code",
      "source": [
        "df.info()"
      ],
      "metadata": {
        "colab": {
          "base_uri": "https://localhost:8080/"
        },
        "id": "MOyYpL60Agsg",
        "outputId": "a65b4339-cb3f-4e6c-9965-38025484d66a"
      },
      "execution_count": 7,
      "outputs": [
        {
          "output_type": "stream",
          "name": "stdout",
          "text": [
            "<class 'pandas.core.frame.DataFrame'>\n",
            "RangeIndex: 398 entries, 0 to 397\n",
            "Data columns (total 9 columns):\n",
            " #   Column        Non-Null Count  Dtype  \n",
            "---  ------        --------------  -----  \n",
            " 0   mpg           398 non-null    float64\n",
            " 1   cylinders     398 non-null    int64  \n",
            " 2   displacement  398 non-null    float64\n",
            " 3   horsepower    398 non-null    object \n",
            " 4   weight        398 non-null    float64\n",
            " 5   acceleration  398 non-null    float64\n",
            " 6   modelyear     398 non-null    int64  \n",
            " 7   origin        398 non-null    int64  \n",
            " 8   carname       398 non-null    object \n",
            "dtypes: float64(4), int64(3), object(2)\n",
            "memory usage: 28.1+ KB\n"
          ]
        }
      ]
    },
    {
      "cell_type": "markdown",
      "source": [
        "We see that horsepower column is perceived as object data type by Pandas, whereas we should be expecting a floating value. It means there is a string somewhere. Now our goal is to find that string values(s) and deduce what to do with the corrupt data.\n",
        "\n",
        "Generally the steps are to check for null, missing, incomplete, inappropriate values and subsequently clean the data by converting data type to appropriate data types, filling missing values, normalizing etc.\n",
        "\n",
        "We follow the steps below to clean the corrupt data for horsepower column\n",
        "\n",
        "Display unique values in horsepower column."
      ],
      "metadata": {
        "id": "KKtSBB1kBfak"
      }
    },
    {
      "cell_type": "code",
      "source": [
        "str(set(df['horsepower']))"
      ],
      "metadata": {
        "colab": {
          "base_uri": "https://localhost:8080/",
          "height": 143
        },
        "id": "iDKT6VhgBhI4",
        "outputId": "f71941d8-9411-4f93-8dec-4d5ad8ec8f2d"
      },
      "execution_count": 8,
      "outputs": [
        {
          "output_type": "execute_result",
          "data": {
            "text/plain": [
              "\"{'61.00', '142.0', '230.0', '82.00', '72.00', '81.00', '69.00', '105.0', '49.00', '68.00', '66.00', '167.0', '113.0', '78.00', '60.00', '225.0', '116.0', '170.0', '87.00', '84.00', '94.00', '52.00', '48.00', '46.00', '122.0', '110.0', '129.0', '67.00', '97.00', '152.0', '?', '93.00', '130.0', '91.00', '133.0', '208.0', '53.00', '140.0', '77.00', '107.0', '76.00', '108.0', '75.00', '95.00', '198.0', '158.0', '120.0', '96.00', '115.0', '215.0', '103.0', '145.0', '83.00', '193.0', '100.0', '138.0', '153.0', '125.0', '155.0', '135.0', '74.00', '210.0', '80.00', '65.00', '92.00', '175.0', '54.00', '63.00', '70.00', '64.00', '62.00', '160.0', '112.0', '98.00', '90.00', '71.00', '86.00', '79.00', '149.0', '190.0', '89.00', '220.0', '200.0', '102.0', '165.0', '137.0', '58.00', '150.0', '139.0', '180.0', '148.0', '132.0', '85.00', '88.00'}\""
            ],
            "application/vnd.google.colaboratory.intrinsic+json": {
              "type": "string"
            }
          },
          "metadata": {},
          "execution_count": 8
        }
      ]
    },
    {
      "cell_type": "markdown",
      "source": [
        "2. Find percentage of non-numeric data in horsepower column"
      ],
      "metadata": {
        "id": "iFSnupqgCN3w"
      }
    },
    {
      "cell_type": "code",
      "source": [
        "def removenotnum(list1):\n",
        " notnum = []\n",
        " for x in list1:\n",
        "   try:\n",
        "     float(x)\n",
        "   except:\n",
        "     notnum.append(x)\n",
        " return notnum\n",
        "notnumtable = removenotnum(df['horsepower'])\n",
        "print('all rubbish values →', set(notnumtable))\n",
        "print('Percent of identified rubbish data in Table →', len(notnumtable) / len(df['horsepower'])*100)"
      ],
      "metadata": {
        "colab": {
          "base_uri": "https://localhost:8080/"
        },
        "id": "LqRxleqxCNhM",
        "outputId": "f37a92dc-35f5-47d2-b681-af0c8787f165"
      },
      "execution_count": 9,
      "outputs": [
        {
          "output_type": "stream",
          "name": "stdout",
          "text": [
            "all rubbish values → {'?'}\n",
            "Percent of identified rubbish data in Table → 1.507537688442211\n"
          ]
        }
      ]
    },
    {
      "cell_type": "markdown",
      "source": [
        "It turns out that only 1.5% of data is corrupt. Identify the row index of those rows containing rubbish value for horsepower column and remove those rows."
      ],
      "metadata": {
        "id": "kt0gCaxRC1wY"
      }
    },
    {
      "cell_type": "code",
      "source": [
        "indexnames = df[(df['horsepower'] == '?')].index\n",
        "indexnames"
      ],
      "metadata": {
        "colab": {
          "base_uri": "https://localhost:8080/"
        },
        "id": "005ubSMuC3XQ",
        "outputId": "86abd1f3-77cb-42ca-d246-3417e17d1180"
      },
      "execution_count": 10,
      "outputs": [
        {
          "output_type": "execute_result",
          "data": {
            "text/plain": [
              "Int64Index([32, 126, 330, 336, 354, 374], dtype='int64')"
            ]
          },
          "metadata": {},
          "execution_count": 10
        }
      ]
    },
    {
      "cell_type": "code",
      "source": [
        "df.drop(axis=0,index=indexnames,inplace=True)"
      ],
      "metadata": {
        "id": "E0g0mfC9C8fe"
      },
      "execution_count": 11,
      "outputs": []
    },
    {
      "cell_type": "markdown",
      "source": [
        "Now convert the remaining clean data in horsepower column to float and see the data types now."
      ],
      "metadata": {
        "id": "Mxgqh60oDNxc"
      }
    },
    {
      "cell_type": "code",
      "source": [
        "df['horsepower'] = df['horsepower'].astype(float)\n",
        "df.info()"
      ],
      "metadata": {
        "colab": {
          "base_uri": "https://localhost:8080/"
        },
        "id": "I7hBPv12DOk0",
        "outputId": "b0f1e3be-8ed1-42fb-e0d9-a2cdcb821510"
      },
      "execution_count": 12,
      "outputs": [
        {
          "output_type": "stream",
          "name": "stdout",
          "text": [
            "<class 'pandas.core.frame.DataFrame'>\n",
            "Int64Index: 392 entries, 0 to 397\n",
            "Data columns (total 9 columns):\n",
            " #   Column        Non-Null Count  Dtype  \n",
            "---  ------        --------------  -----  \n",
            " 0   mpg           392 non-null    float64\n",
            " 1   cylinders     392 non-null    int64  \n",
            " 2   displacement  392 non-null    float64\n",
            " 3   horsepower    392 non-null    float64\n",
            " 4   weight        392 non-null    float64\n",
            " 5   acceleration  392 non-null    float64\n",
            " 6   modelyear     392 non-null    int64  \n",
            " 7   origin        392 non-null    int64  \n",
            " 8   carname       392 non-null    object \n",
            "dtypes: float64(5), int64(3), object(1)\n",
            "memory usage: 30.6+ KB\n"
          ]
        }
      ]
    },
    {
      "cell_type": "markdown",
      "source": [
        "Now, we use some data visualisation techniques to visualise our data on charts, histograms etc to further do any data pre-processing or feature engineering if required. In short, we plot to check any anomaly, outlier, distribution, range of values etc.\n",
        "\n",
        "pairplot of dependent variable (y) with respect to every independent variable or feature (x1, x2, x3 etc) except car name"
      ],
      "metadata": {
        "id": "maxpGKrmDiSG"
      }
    },
    {
      "cell_type": "code",
      "source": [
        "sns.pairplot(df, x_vars=df.drop(['carname','mpg'], \n",
        "             axis=1, inplace=False).columns, y_vars= ['mpg'])"
      ],
      "metadata": {
        "colab": {
          "base_uri": "https://localhost:8080/",
          "height": 185
        },
        "id": "poqyV8c7Dh_a",
        "outputId": "684abd6e-01fc-41a7-b267-9c0bc4c6befe"
      },
      "execution_count": 13,
      "outputs": [
        {
          "output_type": "execute_result",
          "data": {
            "text/plain": [
              "<seaborn.axisgrid.PairGrid at 0x7fe7c479b850>"
            ]
          },
          "metadata": {},
          "execution_count": 13
        },
        {
          "output_type": "display_data",
          "data": {
            "text/plain": [
              "<Figure size 1260x180 with 7 Axes>"
            ],
            "image/png": "[encoded data removed]"
          },
          "metadata": {
            "needs_background": "light"
          }
        }
      ]
    },
    {
      "cell_type": "code",
      "source": [
        "df.origin.unique()"
      ],
      "metadata": {
        "colab": {
          "base_uri": "https://localhost:8080/"
        },
        "id": "3YCKPG7YEOqk",
        "outputId": "a4833797-2dd6-44ab-9480-1efdbdac3e3a"
      },
      "execution_count": 14,
      "outputs": [
        {
          "output_type": "execute_result",
          "data": {
            "text/plain": [
              "array([1, 3, 2])"
            ]
          },
          "metadata": {},
          "execution_count": 14
        }
      ]
    },
    {
      "cell_type": "code",
      "source": [
        "df.modelyear.unique()"
      ],
      "metadata": {
        "colab": {
          "base_uri": "https://localhost:8080/"
        },
        "id": "3Zw844Q_EuA2",
        "outputId": "1899f70a-940e-43c9-ba08-6ebd2ec52023"
      },
      "execution_count": 15,
      "outputs": [
        {
          "output_type": "execute_result",
          "data": {
            "text/plain": [
              "array([70, 71, 72, 73, 74, 75, 76, 77, 78, 79, 80, 81, 82])"
            ]
          },
          "metadata": {},
          "execution_count": 15
        }
      ]
    },
    {
      "cell_type": "markdown",
      "source": [
        "histogram of dependent variable (y) and every independent variable or feature (x1, x2, x3 etc) except car name. Define and describe a histplot() function and later call it to plot all histograms"
      ],
      "metadata": {
        "id": "wZEQXA7wGKto"
      }
    },
    {
      "cell_type": "code",
      "source": [
        "def histplot(df, listvar):\n",
        "   fig, axes = plt.subplots(nrows=1, ncols=len(listvar), \n",
        "                figsize=(20, 3))\n",
        "   counter=0\n",
        "   for ax in axes:\n",
        "    df.hist(column=listvar[counter], bins=20, ax=axes[counter])\n",
        "    plt.ylabel('Price')\n",
        "    plt.xlabel(listvar[counter])\n",
        "    counter = counter+1\n",
        "plt.show()\n",
        " \n",
        "histplot(df, df.drop(['carname'], axis=1, inplace=False).columns)"
      ],
      "metadata": {
        "colab": {
          "base_uri": "https://localhost:8080/",
          "height": 218
        },
        "id": "hfECVENBGLki",
        "outputId": "10986a85-96d8-47da-e521-935749dba102"
      },
      "execution_count": 16,
      "outputs": [
        {
          "output_type": "display_data",
          "data": {
            "text/plain": [
              "<Figure size 1440x216 with 8 Axes>"
            ],
            "image/png": "[encoded data removed]"
          },
          "metadata": {
            "needs_background": "light"
          }
        }
      ]
    },
    {
      "cell_type": "markdown",
      "source": [
        "To see if any outliers, plot a boxplot of every independent variable or feature (x1, x2, x3 etc) except car name. Define and describe a dfboxplot() function\n",
        "Define list of continuous variables and call dfboxplot() for only those to detect outliers"
      ],
      "metadata": {
        "id": "5hJiNe6yHRw7"
      }
    },
    {
      "cell_type": "code",
      "source": [
        "def dfboxplot(df, listvars):\n",
        "   fig,axes=plt.subplots(nrows=1,ncols=len(listvars),figsize=(20,3))\n",
        "   counter=0\n",
        "   for ax in axes:\n",
        "    df.boxplot(column=listvars[counter], ax=axes[counter])\n",
        "    plt.ylabel('Price')\n",
        "    plt.xlabel(listvars[counter])\n",
        "    counter = counter+1\n",
        "plt.show()\n",
        "# Create a list of continuous variables\n",
        "linear_vars = df.select_dtypes(include=[np.number]).columns\n",
        "# call dfboxplot() for only linear_vars to detect outliers\n",
        "dfboxplot(df, linear_vars)"
      ],
      "metadata": {
        "colab": {
          "base_uri": "https://localhost:8080/",
          "height": 204
        },
        "id": "L20INUzcHShs",
        "outputId": "79fed31e-bce0-4429-cba3-7e39168fa2d9"
      },
      "execution_count": 17,
      "outputs": [
        {
          "output_type": "display_data",
          "data": {
            "text/plain": [
              "<Figure size 1440x216 with 8 Axes>"
            ],
            "image/png": "[encoded data removed]"
          },
          "metadata": {
            "needs_background": "light"
          }
        }
      ]
    },
    {
      "cell_type": "markdown",
      "source": [
        "Lastly, remove outliers using z-score. Generally a z-score of 3 is considered practically useful to detect and remove outliers."
      ],
      "metadata": {
        "id": "vxuE5XLbJx83"
      }
    },
    {
      "cell_type": "code",
      "source": [
        "# this removes dataframe’s outliers inplace\n",
        "def removeoutliers(df, listvars, z):\n",
        " from scipy import stats\n",
        " for var in listvars:\n",
        "  df1 = df[np.abs(stats.zscore(df[var])) < z]\n",
        "  return df1\n",
        "# remove outliers where z score > 3\n",
        "df = removeoutliers(df, linear_vars,3)\n",
        "df.info()"
      ],
      "metadata": {
        "colab": {
          "base_uri": "https://localhost:8080/"
        },
        "id": "H5wzUctqJIJQ",
        "outputId": "de8786cf-5dfd-4eb8-b648-1682364c90df"
      },
      "execution_count": 18,
      "outputs": [
        {
          "output_type": "stream",
          "name": "stdout",
          "text": [
            "<class 'pandas.core.frame.DataFrame'>\n",
            "Int64Index: 392 entries, 0 to 397\n",
            "Data columns (total 9 columns):\n",
            " #   Column        Non-Null Count  Dtype  \n",
            "---  ------        --------------  -----  \n",
            " 0   mpg           392 non-null    float64\n",
            " 1   cylinders     392 non-null    int64  \n",
            " 2   displacement  392 non-null    float64\n",
            " 3   horsepower    392 non-null    float64\n",
            " 4   weight        392 non-null    float64\n",
            " 5   acceleration  392 non-null    float64\n",
            " 6   modelyear     392 non-null    int64  \n",
            " 7   origin        392 non-null    int64  \n",
            " 8   carname       392 non-null    object \n",
            "dtypes: float64(5), int64(3), object(1)\n",
            "memory usage: 30.6+ KB\n"
          ]
        }
      ]
    },
    {
      "cell_type": "markdown",
      "source": [
        "# Set up Machine learning model\n",
        "1. Set up X and y dataframes\n",
        "\n",
        "— for dependent variable (y) and independent features (x1, x2, x3 etc)\n",
        "\n",
        "Two square brackets [[… ]] are needed to create a dataframe.\n",
        "\n",
        "\n",
        "Single [] will create a series / array"
      ],
      "metadata": {
        "id": "fr81-RPUKA2x"
      }
    },
    {
      "cell_type": "code",
      "source": [
        "X_df  = df.drop(['acceleration','mpg','carname'], axis=1, inplace=False)\n",
        "y_df  = df[['mpg']]\n",
        "X_df"
      ],
      "metadata": {
        "colab": {
          "base_uri": "https://localhost:8080/",
          "height": 423
        },
        "id": "pVsaqbSzKBTB",
        "outputId": "0e7911f9-047d-4cc3-e707-05e1ccb56669"
      },
      "execution_count": 19,
      "outputs": [
        {
          "output_type": "execute_result",
          "data": {
            "text/plain": [
              "     cylinders  displacement  horsepower  weight  modelyear  origin\n",
              "0            8         307.0       130.0  3504.0         70       1\n",
              "1            8         350.0       165.0  3693.0         70       1\n",
              "2            8         318.0       150.0  3436.0         70       1\n",
              "3            8         304.0       150.0  3433.0         70       1\n",
              "4            8         302.0       140.0  3449.0         70       1\n",
              "..         ...           ...         ...     ...        ...     ...\n",
              "393          4         140.0        86.0  2790.0         82       1\n",
              "394          4          97.0        52.0  2130.0         82       2\n",
              "395          4         135.0        84.0  2295.0         82       1\n",
              "396          4         120.0        79.0  2625.0         82       1\n",
              "397          4         119.0        82.0  2720.0         82       1\n",
              "\n",
              "[392 rows x 6 columns]"
            ],
            "text/html": [
              "\n",
              "  <div id=\"df-a38ca518-18d8-4d3e-bc0e-d684312a3e65\">\n",
              "    <div class=\"colab-df-container\">\n",
              "      <div>\n",
              "<style scoped>\n",
              "    .dataframe tbody tr th:only-of-type {\n",
              "        vertical-align: middle;\n",
              "    }\n",
              "\n",
              "    .dataframe tbody tr th {\n",
              "        vertical-align: top;\n",
              "    }\n",
              "\n",
              "    .dataframe thead th {\n",
              "        text-align: right;\n",
              "    }\n",
              "</style>\n",
              "<table border=\"1\" class=\"dataframe\">\n",
              "  <thead>\n",
              "    <tr style=\"text-align: right;\">\n",
              "      <th></th>\n",
              "      <th>cylinders</th>\n",
              "      <th>displacement</th>\n",
              "      <th>horsepower</th>\n",
              "      <th>weight</th>\n",
              "      <th>modelyear</th>\n",
              "      <th>origin</th>\n",
              "    </tr>\n",
              "  </thead>\n",
              "  <tbody>\n",
              "    <tr>\n",
              "      <th>0</th>\n",
              "      <td>8</td>\n",
              "      <td>307.0</td>\n",
              "      <td>130.0</td>\n",
              "      <td>3504.0</td>\n",
              "      <td>70</td>\n",
              "      <td>1</td>\n",
              "    </tr>\n",
              "    <tr>\n",
              "      <th>1</th>\n",
              "      <td>8</td>\n",
              "      <td>350.0</td>\n",
              "      <td>165.0</td>\n",
              "      <td>3693.0</td>\n",
              "      <td>70</td>\n",
              "      <td>1</td>\n",
              "    </tr>\n",
              "    <tr>\n",
              "      <th>2</th>\n",
              "      <td>8</td>\n",
              "      <td>318.0</td>\n",
              "      <td>150.0</td>\n",
              "      <td>3436.0</td>\n",
              "      <td>70</td>\n",
              "      <td>1</td>\n",
              "    </tr>\n",
              "    <tr>\n",
              "      <th>3</th>\n",
              "      <td>8</td>\n",
              "      <td>304.0</td>\n",
              "      <td>150.0</td>\n",
              "      <td>3433.0</td>\n",
              "      <td>70</td>\n",
              "      <td>1</td>\n",
              "    </tr>\n",
              "    <tr>\n",
              "      <th>4</th>\n",
              "      <td>8</td>\n",
              "      <td>302.0</td>\n",
              "      <td>140.0</td>\n",
              "      <td>3449.0</td>\n",
              "      <td>70</td>\n",
              "      <td>1</td>\n",
              "    </tr>\n",
              "    <tr>\n",
              "      <th>...</th>\n",
              "      <td>...</td>\n",
              "      <td>...</td>\n",
              "      <td>...</td>\n",
              "      <td>...</td>\n",
              "      <td>...</td>\n",
              "      <td>...</td>\n",
              "    </tr>\n",
              "    <tr>\n",
              "      <th>393</th>\n",
              "      <td>4</td>\n",
              "      <td>140.0</td>\n",
              "      <td>86.0</td>\n",
              "      <td>2790.0</td>\n",
              "      <td>82</td>\n",
              "      <td>1</td>\n",
              "    </tr>\n",
              "    <tr>\n",
              "      <th>394</th>\n",
              "      <td>4</td>\n",
              "      <td>97.0</td>\n",
              "      <td>52.0</td>\n",
              "      <td>2130.0</td>\n",
              "      <td>82</td>\n",
              "      <td>2</td>\n",
              "    </tr>\n",
              "    <tr>\n",
              "      <th>395</th>\n",
              "      <td>4</td>\n",
              "      <td>135.0</td>\n",
              "      <td>84.0</td>\n",
              "      <td>2295.0</td>\n",
              "      <td>82</td>\n",
              "      <td>1</td>\n",
              "    </tr>\n",
              "    <tr>\n",
              "      <th>396</th>\n",
              "      <td>4</td>\n",
              "      <td>120.0</td>\n",
              "      <td>79.0</td>\n",
              "      <td>2625.0</td>\n",
              "      <td>82</td>\n",
              "      <td>1</td>\n",
              "    </tr>\n",
              "    <tr>\n",
              "      <th>397</th>\n",
              "      <td>4</td>\n",
              "      <td>119.0</td>\n",
              "      <td>82.0</td>\n",
              "      <td>2720.0</td>\n",
              "      <td>82</td>\n",
              "      <td>1</td>\n",
              "    </tr>\n",
              "  </tbody>\n",
              "</table>\n",
              "<p>392 rows × 6 columns</p>\n",
              "</div>\n",
              "      <button class=\"colab-df-convert\" onclick=\"convertToInteractive('df-a38ca518-18d8-4d3e-bc0e-d684312a3e65')\"\n",
              "              title=\"Convert this dataframe to an interactive table.\"\n",
              "              style=\"display:none;\">\n",
              "        \n",
              "  <svg xmlns=\"http://www.w3.org/2000/svg\" height=\"24px\"viewBox=\"0 0 24 24\"\n",
              "       width=\"24px\">\n",
              "    <path d=\"M0 0h24v24H0V0z\" fill=\"none\"/>\n",
              "    <path d=\"M18.56 5.44l.94 2.06.94-2.06 2.06-.94-2.06-.94-.94-2.06-.94 2.06-2.06.94zm-11 1L8.5 8.5l.94-2.06 2.06-.94-2.06-.94L8.5 2.5l-.94 2.06-2.06.94zm10 10l.94 2.06.94-2.06 2.06-.94-2.06-.94-.94-2.06-.94 2.06-2.06.94z\"/><path d=\"M17.41 7.96l-1.37-1.37c-.4-.4-.92-.59-1.43-.59-.52 0-1.04.2-1.43.59L10.3 9.45l-7.72 7.72c-.78.78-.78 2.05 0 2.83L4 21.41c.39.39.9.59 1.41.59.51 0 1.02-.2 1.41-.59l7.78-7.78 2.81-2.81c.8-.78.8-2.07 0-2.86zM5.41 20L4 18.59l7.72-7.72 1.47 1.35L5.41 20z\"/>\n",
              "  </svg>\n",
              "      </button>\n",
              "      \n",
              "  <style>\n",
              "    .colab-df-container {\n",
              "      display:flex;\n",
              "      flex-wrap:wrap;\n",
              "      gap: 12px;\n",
              "    }\n",
              "\n",
              "    .colab-df-convert {\n",
              "      background-color: #E8F0FE;\n",
              "      border: none;\n",
              "      border-radius: 50%;\n",
              "      cursor: pointer;\n",
              "      display: none;\n",
              "      fill: #1967D2;\n",
              "      height: 32px;\n",
              "      padding: 0 0 0 0;\n",
              "      width: 32px;\n",
              "    }\n",
              "\n",
              "    .colab-df-convert:hover {\n",
              "      background-color: #E2EBFA;\n",
              "      box-shadow: 0px 1px 2px rgba(60, 64, 67, 0.3), 0px 1px 3px 1px rgba(60, 64, 67, 0.15);\n",
              "      fill: #174EA6;\n",
              "    }\n",
              "\n",
              "    [theme=dark] .colab-df-convert {\n",
              "      background-color: #3B4455;\n",
              "      fill: #D2E3FC;\n",
              "    }\n",
              "\n",
              "    [theme=dark] .colab-df-convert:hover {\n",
              "      background-color: #434B5C;\n",
              "      box-shadow: 0px 1px 3px 1px rgba(0, 0, 0, 0.15);\n",
              "      filter: drop-shadow(0px 1px 2px rgba(0, 0, 0, 0.3));\n",
              "      fill: #FFFFFF;\n",
              "    }\n",
              "  </style>\n",
              "\n",
              "      <script>\n",
              "        const buttonEl =\n",
              "          document.querySelector('#df-a38ca518-18d8-4d3e-bc0e-d684312a3e65 button.colab-df-convert');\n",
              "        buttonEl.style.display =\n",
              "          google.colab.kernel.accessAllowed ? 'block' : 'none';\n",
              "\n",
              "        async function convertToInteractive(key) {\n",
              "          const element = document.querySelector('#df-a38ca518-18d8-4d3e-bc0e-d684312a3e65');\n",
              "          const dataTable =\n",
              "            await google.colab.kernel.invokeFunction('convertToInteractive',\n",
              "                                                     [key], {});\n",
              "          if (!dataTable) return;\n",
              "\n",
              "          const docLinkHtml = 'Like what you see? Visit the ' +\n",
              "            '<a target=\"_blank\" href=https://colab.research.google.com/notebooks/data_table.ipynb>data table notebook</a>'\n",
              "            + ' to learn more about interactive tables.';\n",
              "          element.innerHTML = '';\n",
              "          dataTable['output_type'] = 'display_data';\n",
              "          await google.colab.output.renderOutput(dataTable, element);\n",
              "          const docLink = document.createElement('div');\n",
              "          docLink.innerHTML = docLinkHtml;\n",
              "          element.appendChild(docLink);\n",
              "        }\n",
              "      </script>\n",
              "    </div>\n",
              "  </div>\n",
              "  "
            ]
          },
          "metadata": {},
          "execution_count": 19
        }
      ]
    },
    {
      "cell_type": "code",
      "source": [
        "df_le = X_df.copy()\n",
        "# add a new column in dataframe — join 2 dataframe columns-wise\n",
        "df_le['mpg'] = y_df['mpg'].values\n",
        "df_le.corr()"
      ],
      "metadata": {
        "colab": {
          "base_uri": "https://localhost:8080/",
          "height": 269
        },
        "id": "dTiy5VKWb2Of",
        "outputId": "08b201ca-fff0-4b98-e450-cfeeb52d24a1"
      },
      "execution_count": 20,
      "outputs": [
        {
          "output_type": "execute_result",
          "data": {
            "text/plain": [
              "              cylinders  displacement  horsepower    weight  modelyear  \\\n",
              "cylinders      1.000000      0.950823    0.842983  0.897527  -0.345647   \n",
              "displacement   0.950823      1.000000    0.897257  0.932994  -0.369855   \n",
              "horsepower     0.842983      0.897257    1.000000  0.864538  -0.416361   \n",
              "weight         0.897527      0.932994    0.864538  1.000000  -0.309120   \n",
              "modelyear     -0.345647     -0.369855   -0.416361 -0.309120   1.000000   \n",
              "origin        -0.568932     -0.614535   -0.455171 -0.585005   0.181528   \n",
              "mpg           -0.777618     -0.805127   -0.778427 -0.832244   0.580541   \n",
              "\n",
              "                origin       mpg  \n",
              "cylinders    -0.568932 -0.777618  \n",
              "displacement -0.614535 -0.805127  \n",
              "horsepower   -0.455171 -0.778427  \n",
              "weight       -0.585005 -0.832244  \n",
              "modelyear     0.181528  0.580541  \n",
              "origin        1.000000  0.565209  \n",
              "mpg           0.565209  1.000000  "
            ],
            "text/html": [
              "\n",
              "  <div id=\"df-3dca9700-6771-4059-b812-a0757281e1f9\">\n",
              "    <div class=\"colab-df-container\">\n",
              "      <div>\n",
              "<style scoped>\n",
              "    .dataframe tbody tr th:only-of-type {\n",
              "        vertical-align: middle;\n",
              "    }\n",
              "\n",
              "    .dataframe tbody tr th {\n",
              "        vertical-align: top;\n",
              "    }\n",
              "\n",
              "    .dataframe thead th {\n",
              "        text-align: right;\n",
              "    }\n",
              "</style>\n",
              "<table border=\"1\" class=\"dataframe\">\n",
              "  <thead>\n",
              "    <tr style=\"text-align: right;\">\n",
              "      <th></th>\n",
              "      <th>cylinders</th>\n",
              "      <th>displacement</th>\n",
              "      <th>horsepower</th>\n",
              "      <th>weight</th>\n",
              "      <th>modelyear</th>\n",
              "      <th>origin</th>\n",
              "      <th>mpg</th>\n",
              "    </tr>\n",
              "  </thead>\n",
              "  <tbody>\n",
              "    <tr>\n",
              "      <th>cylinders</th>\n",
              "      <td>1.000000</td>\n",
              "      <td>0.950823</td>\n",
              "      <td>0.842983</td>\n",
              "      <td>0.897527</td>\n",
              "      <td>-0.345647</td>\n",
              "      <td>-0.568932</td>\n",
              "      <td>-0.777618</td>\n",
              "    </tr>\n",
              "    <tr>\n",
              "      <th>displacement</th>\n",
              "      <td>0.950823</td>\n",
              "      <td>1.000000</td>\n",
              "      <td>0.897257</td>\n",
              "      <td>0.932994</td>\n",
              "      <td>-0.369855</td>\n",
              "      <td>-0.614535</td>\n",
              "      <td>-0.805127</td>\n",
              "    </tr>\n",
              "    <tr>\n",
              "      <th>horsepower</th>\n",
              "      <td>0.842983</td>\n",
              "      <td>0.897257</td>\n",
              "      <td>1.000000</td>\n",
              "      <td>0.864538</td>\n",
              "      <td>-0.416361</td>\n",
              "      <td>-0.455171</td>\n",
              "      <td>-0.778427</td>\n",
              "    </tr>\n",
              "    <tr>\n",
              "      <th>weight</th>\n",
              "      <td>0.897527</td>\n",
              "      <td>0.932994</td>\n",
              "      <td>0.864538</td>\n",
              "      <td>1.000000</td>\n",
              "      <td>-0.309120</td>\n",
              "      <td>-0.585005</td>\n",
              "      <td>-0.832244</td>\n",
              "    </tr>\n",
              "    <tr>\n",
              "      <th>modelyear</th>\n",
              "      <td>-0.345647</td>\n",
              "      <td>-0.369855</td>\n",
              "      <td>-0.416361</td>\n",
              "      <td>-0.309120</td>\n",
              "      <td>1.000000</td>\n",
              "      <td>0.181528</td>\n",
              "      <td>0.580541</td>\n",
              "    </tr>\n",
              "    <tr>\n",
              "      <th>origin</th>\n",
              "      <td>-0.568932</td>\n",
              "      <td>-0.614535</td>\n",
              "      <td>-0.455171</td>\n",
              "      <td>-0.585005</td>\n",
              "      <td>0.181528</td>\n",
              "      <td>1.000000</td>\n",
              "      <td>0.565209</td>\n",
              "    </tr>\n",
              "    <tr>\n",
              "      <th>mpg</th>\n",
              "      <td>-0.777618</td>\n",
              "      <td>-0.805127</td>\n",
              "      <td>-0.778427</td>\n",
              "      <td>-0.832244</td>\n",
              "      <td>0.580541</td>\n",
              "      <td>0.565209</td>\n",
              "      <td>1.000000</td>\n",
              "    </tr>\n",
              "  </tbody>\n",
              "</table>\n",
              "</div>\n",
              "      <button class=\"colab-df-convert\" onclick=\"convertToInteractive('df-3dca9700-6771-4059-b812-a0757281e1f9')\"\n",
              "              title=\"Convert this dataframe to an interactive table.\"\n",
              "              style=\"display:none;\">\n",
              "        \n",
              "  <svg xmlns=\"http://www.w3.org/2000/svg\" height=\"24px\"viewBox=\"0 0 24 24\"\n",
              "       width=\"24px\">\n",
              "    <path d=\"M0 0h24v24H0V0z\" fill=\"none\"/>\n",
              "    <path d=\"M18.56 5.44l.94 2.06.94-2.06 2.06-.94-2.06-.94-.94-2.06-.94 2.06-2.06.94zm-11 1L8.5 8.5l.94-2.06 2.06-.94-2.06-.94L8.5 2.5l-.94 2.06-2.06.94zm10 10l.94 2.06.94-2.06 2.06-.94-2.06-.94-.94-2.06-.94 2.06-2.06.94z\"/><path d=\"M17.41 7.96l-1.37-1.37c-.4-.4-.92-.59-1.43-.59-.52 0-1.04.2-1.43.59L10.3 9.45l-7.72 7.72c-.78.78-.78 2.05 0 2.83L4 21.41c.39.39.9.59 1.41.59.51 0 1.02-.2 1.41-.59l7.78-7.78 2.81-2.81c.8-.78.8-2.07 0-2.86zM5.41 20L4 18.59l7.72-7.72 1.47 1.35L5.41 20z\"/>\n",
              "  </svg>\n",
              "      </button>\n",
              "      \n",
              "  <style>\n",
              "    .colab-df-container {\n",
              "      display:flex;\n",
              "      flex-wrap:wrap;\n",
              "      gap: 12px;\n",
              "    }\n",
              "\n",
              "    .colab-df-convert {\n",
              "      background-color: #E8F0FE;\n",
              "      border: none;\n",
              "      border-radius: 50%;\n",
              "      cursor: pointer;\n",
              "      display: none;\n",
              "      fill: #1967D2;\n",
              "      height: 32px;\n",
              "      padding: 0 0 0 0;\n",
              "      width: 32px;\n",
              "    }\n",
              "\n",
              "    .colab-df-convert:hover {\n",
              "      background-color: #E2EBFA;\n",
              "      box-shadow: 0px 1px 2px rgba(60, 64, 67, 0.3), 0px 1px 3px 1px rgba(60, 64, 67, 0.15);\n",
              "      fill: #174EA6;\n",
              "    }\n",
              "\n",
              "    [theme=dark] .colab-df-convert {\n",
              "      background-color: #3B4455;\n",
              "      fill: #D2E3FC;\n",
              "    }\n",
              "\n",
              "    [theme=dark] .colab-df-convert:hover {\n",
              "      background-color: #434B5C;\n",
              "      box-shadow: 0px 1px 3px 1px rgba(0, 0, 0, 0.15);\n",
              "      filter: drop-shadow(0px 1px 2px rgba(0, 0, 0, 0.3));\n",
              "      fill: #FFFFFF;\n",
              "    }\n",
              "  </style>\n",
              "\n",
              "      <script>\n",
              "        const buttonEl =\n",
              "          document.querySelector('#df-3dca9700-6771-4059-b812-a0757281e1f9 button.colab-df-convert');\n",
              "        buttonEl.style.display =\n",
              "          google.colab.kernel.accessAllowed ? 'block' : 'none';\n",
              "\n",
              "        async function convertToInteractive(key) {\n",
              "          const element = document.querySelector('#df-3dca9700-6771-4059-b812-a0757281e1f9');\n",
              "          const dataTable =\n",
              "            await google.colab.kernel.invokeFunction('convertToInteractive',\n",
              "                                                     [key], {});\n",
              "          if (!dataTable) return;\n",
              "\n",
              "          const docLinkHtml = 'Like what you see? Visit the ' +\n",
              "            '<a target=\"_blank\" href=https://colab.research.google.com/notebooks/data_table.ipynb>data table notebook</a>'\n",
              "            + ' to learn more about interactive tables.';\n",
              "          element.innerHTML = '';\n",
              "          dataTable['output_type'] = 'display_data';\n",
              "          await google.colab.output.renderOutput(dataTable, element);\n",
              "          const docLink = document.createElement('div');\n",
              "          docLink.innerHTML = docLinkHtml;\n",
              "          element.appendChild(docLink);\n",
              "        }\n",
              "      </script>\n",
              "    </div>\n",
              "  </div>\n",
              "  "
            ]
          },
          "metadata": {},
          "execution_count": 20
        }
      ]
    },
    {
      "cell_type": "markdown",
      "source": [
        "# 2. Convert features to log\n",
        "— Since we say in histogram plots that features are not normally distributed, we will convert them to log.\n",
        "\n",
        "Most Machine Learning equations rely on the assumption that the underlying data is normally distributed."
      ],
      "metadata": {
        "id": "IVuQ02gHMAjD"
      }
    },
    {
      "cell_type": "code",
      "source": [
        "\n",
        "def convertfeatures2log(df, listvars):\n",
        "   for var in listvars:\n",
        "    df[var] = np.log(df[var])\n",
        "    convertfeatures2log(X, X.columns)\n",
        "    convertfeatures2log(y, y.columns)\n",
        "histplot(X, X.columns)\n",
        "y.hist(bins=20)\n",
        "\n",
        "#we are using Standard Scalar\n"
      ],
      "metadata": {
        "colab": {
          "base_uri": "https://localhost:8080/",
          "height": 242
        },
        "id": "6zPHFIJDLgvs",
        "outputId": "21eb0e14-13b8-41ba-89ef-9bd99a10fa80"
      },
      "execution_count": 21,
      "outputs": [
        {
          "output_type": "error",
          "ename": "NameError",
          "evalue": "ignored",
          "traceback": [
            "\u001b[0;31m---------------------------------------------------------------------------\u001b[0m",
            "\u001b[0;31mNameError\u001b[0m                                 Traceback (most recent call last)",
            "\u001b[0;32m<ipython-input-21-f5a93c9be433>\u001b[0m in \u001b[0;36m<module>\u001b[0;34m\u001b[0m\n\u001b[1;32m      4\u001b[0m     \u001b[0mconvertfeatures2log\u001b[0m\u001b[0;34m(\u001b[0m\u001b[0mX\u001b[0m\u001b[0;34m,\u001b[0m \u001b[0mX\u001b[0m\u001b[0;34m.\u001b[0m\u001b[0mcolumns\u001b[0m\u001b[0;34m)\u001b[0m\u001b[0;34m\u001b[0m\u001b[0;34m\u001b[0m\u001b[0m\n\u001b[1;32m      5\u001b[0m     \u001b[0mconvertfeatures2log\u001b[0m\u001b[0;34m(\u001b[0m\u001b[0my\u001b[0m\u001b[0;34m,\u001b[0m \u001b[0my\u001b[0m\u001b[0;34m.\u001b[0m\u001b[0mcolumns\u001b[0m\u001b[0;34m)\u001b[0m\u001b[0;34m\u001b[0m\u001b[0;34m\u001b[0m\u001b[0m\n\u001b[0;32m----> 6\u001b[0;31m \u001b[0mhistplot\u001b[0m\u001b[0;34m(\u001b[0m\u001b[0mX\u001b[0m\u001b[0;34m,\u001b[0m \u001b[0mX\u001b[0m\u001b[0;34m.\u001b[0m\u001b[0mcolumns\u001b[0m\u001b[0;34m)\u001b[0m\u001b[0;34m\u001b[0m\u001b[0;34m\u001b[0m\u001b[0m\n\u001b[0m\u001b[1;32m      7\u001b[0m \u001b[0my\u001b[0m\u001b[0;34m.\u001b[0m\u001b[0mhist\u001b[0m\u001b[0;34m(\u001b[0m\u001b[0mbins\u001b[0m\u001b[0;34m=\u001b[0m\u001b[0;36m20\u001b[0m\u001b[0;34m)\u001b[0m\u001b[0;34m\u001b[0m\u001b[0;34m\u001b[0m\u001b[0m\n\u001b[1;32m      8\u001b[0m \u001b[0;34m\u001b[0m\u001b[0m\n",
            "\u001b[0;31mNameError\u001b[0m: name 'X' is not defined"
          ]
        }
      ]
    },
    {
      "cell_type": "markdown",
      "source": [
        "# 3. Test Train Split\n",
        "Data scientists generally split the data for machine learning into either two or three subsets: 2 subsets for training and testing, while 3 for training, validation and testing."
      ],
      "metadata": {
        "id": "hmPlYQNPMgek"
      }
    },
    {
      "cell_type": "code",
      "source": [
        "from sklearn.model_selection import train_test_split\n",
        "X_train, X_test, y_train, y_test = train_test_split(X_df, y_df, test_size=0.3, random_state=42)"
      ],
      "metadata": {
        "id": "yYu3kI_pMC4k"
      },
      "execution_count": 22,
      "outputs": []
    },
    {
      "cell_type": "code",
      "source": [
        "X_train.columns"
      ],
      "metadata": {
        "colab": {
          "base_uri": "https://localhost:8080/"
        },
        "id": "uUTcUkbSY2d2",
        "outputId": "fae2fac9-d535-4af9-9c01-198434c84f90"
      },
      "execution_count": 23,
      "outputs": [
        {
          "output_type": "execute_result",
          "data": {
            "text/plain": [
              "Index(['cylinders', 'displacement', 'horsepower', 'weight', 'modelyear',\n",
              "       'origin'],\n",
              "      dtype='object')"
            ]
          },
          "metadata": {},
          "execution_count": 23
        }
      ]
    },
    {
      "cell_type": "code",
      "source": [
        "#std = StandardScaler()\n",
        "#X_train = std.fit_transform(X_train)\n",
        "#X_test = std.transform(X_test)\n",
        "#X_train"
      ],
      "metadata": {
        "id": "JOcCzJ8EYokl"
      },
      "execution_count": null,
      "outputs": []
    },
    {
      "cell_type": "code",
      "source": [
        "from sklearn.ensemble import RandomForestRegressor\n",
        "rf = RandomForestRegressor(n_estimators = 300)\n",
        "rf.fit(X_train,y_train)\n",
        "y_pred = rf.predict(X_test)"
      ],
      "metadata": {
        "id": "8Y9fHv-xM7s8",
        "colab": {
          "base_uri": "https://localhost:8080/"
        },
        "outputId": "1493fee0-67ba-47cc-d22c-1bf6550c46b2"
      },
      "execution_count": 24,
      "outputs": [
        {
          "output_type": "stream",
          "name": "stderr",
          "text": [
            "<ipython-input-24-bf516354fe55>:3: DataConversionWarning: A column-vector y was passed when a 1d array was expected. Please change the shape of y to (n_samples,), for example using ravel().\n",
            "  rf.fit(X_train,y_train)\n"
          ]
        }
      ]
    },
    {
      "cell_type": "markdown",
      "source": [
        "# Now, we plot a scatter plots for predictions vs. actuals:\n",
        "\n",
        "ML algo log results vs. log of mpg in dataset\n",
        "exponent of predicted values vs. real mpg in dataset"
      ],
      "metadata": {
        "id": "T1KJdxsLNix8"
      }
    },
    {
      "cell_type": "code",
      "source": [
        "import matplotlib.gridspec as gridspec\n",
        "fig = plt.figure(figsize=(12,5))\n",
        "grid = gridspec.GridSpec(ncols=2, nrows=1, figure=fig)\n",
        "ax1 = fig.add_subplot(grid[0, 0])\n",
        "#ax2 = fig.add_subplot(grid[0, 1])\n",
        "sns.scatterplot(x = y_test['mpg'], y = y_pred, ax=ax1)\n",
        "sns.regplot(x = y_test['mpg'], y=y_pred, ax=ax1)\n",
        "ax1.set_title(\"Predictions vs. actuals\")\n",
        "ax1.set_xlabel('Actual MPG')\n",
        "ax1.set_ylabel('predicted MPG')\n",
        "#sns.scatterplot(x = np.exp(y_test['mpg']), y = np.exp(y_pred), ax=ax2,)\n",
        "#sns.regplot(x = np.exp(y_test['mpg']), y=np.exp(y_pred), ax=ax2)\n",
        "#ax2.set_title(\"Real values of Predictions vs. actuals\")\n",
        "#ax2.set_xlabel('Actual MPG')\n",
        "#ax2.set_ylabel('predicted MPG')"
      ],
      "metadata": {
        "colab": {
          "base_uri": "https://localhost:8080/",
          "height": 368
        },
        "id": "6GBdePG9NkVe",
        "outputId": "76a8b696-891f-4ae4-9537-66a99af65d4b"
      },
      "execution_count": 25,
      "outputs": [
        {
          "output_type": "execute_result",
          "data": {
            "text/plain": [
              "Text(0, 0.5, 'predicted MPG')"
            ]
          },
          "metadata": {},
          "execution_count": 25
        },
        {
          "output_type": "display_data",
          "data": {
            "text/plain": [
              "<Figure size 864x360 with 1 Axes>"
            ],
            "image/png": "[encoded data removed]"
          },
          "metadata": {
            "needs_background": "light"
          }
        }
      ]
    },
    {
      "cell_type": "code",
      "source": [
        "print('MAE:', metrics.mean_absolute_error(y_test, y_pred))\n",
        "print('MSE:', metrics.mean_squared_error(y_test, y_pred))\n",
        "print('RMSE:', np.sqrt(metrics.mean_squared_error(y_test, y_pred)))\n"
      ],
      "metadata": {
        "colab": {
          "base_uri": "https://localhost:8080/"
        },
        "id": "SuCkYvdLOSSc",
        "outputId": "786f4419-b6c3-4bbb-bfc0-bad683738d88"
      },
      "execution_count": 26,
      "outputs": [
        {
          "output_type": "stream",
          "name": "stdout",
          "text": [
            "MAE: 1.8887231638418105\n",
            "MSE: 6.8694250903955245\n",
            "RMSE: 2.6209588112741344\n"
          ]
        }
      ]
    },
    {
      "cell_type": "markdown",
      "source": [
        "After inspecting the scatter plot, we realize its quite well predicted. So now, I will try to improve the ML algo for more accurate predictions.\n",
        "\n",
        "In the next section, I will talk more about the 2 other key aspects of approaching and solving a regression machine learning problem that I mentioned earlier:\n",
        "\n",
        "Using cross_val_score to choose the best ML algo\n",
        "Feature Selection using backward elimination"
      ],
      "metadata": {
        "id": "nVFO3tb3PmZH"
      }
    },
    {
      "cell_type": "code",
      "source": [
        "import warnings\n",
        "from sklearn.exceptions import DataConversionWarning\n",
        "warnings.filterwarnings(action='ignore', category=DataConversionWarning)\n",
        "\n",
        "from sklearn.linear_model import LinearRegression\n",
        "from sklearn.tree import DecisionTreeRegressor\n",
        "from sklearn.neighbors import KNeighborsRegressor\n",
        "from sklearn.svm import SVR\n",
        "from sklearn.ensemble import RandomForestRegressor\n",
        "\n",
        "models=[]\n",
        "\n",
        "models.append(('LR', LinearRegression()))\n",
        "models.append(('RF', RandomForestRegressor(n_estimators=100)))\n",
        "models.append(('KNN', KNeighborsRegressor()))\n",
        "models.append(('CART', DecisionTreeRegressor()))\n",
        "models.append(('SVR',SVR(gamma='auto')))\n",
        "\n",
        "# now evaluate each model \n",
        "results = []\n",
        "names = []\n",
        "print(\"model: mean of score across 10 folds (std dev of score)\")\n",
        "\n",
        "for name, model in models:\n",
        "    # --> split training dataset into 10 parts; train on 9 and test on 1; repeat for all combinations.\n",
        "    kfold = KFold (n_splits=10);\n",
        "    cv_results = cross_val_score(model, X_train, y_train, cv=kfold);\n",
        "    results.append(cv_results);\n",
        "    names.append(name)\n",
        "    msg = \"%s: %f (%f)\" % (name, cv_results.mean(), cv_results.std())\n",
        "    print(msg)"
      ],
      "metadata": {
        "colab": {
          "base_uri": "https://localhost:8080/"
        },
        "id": "whfn8K_Ef5i5",
        "outputId": "e70e7b4c-4594-48f7-c62e-1d56fc7096da"
      },
      "execution_count": 27,
      "outputs": [
        {
          "output_type": "stream",
          "name": "stdout",
          "text": [
            "model: mean of score across 10 folds (std dev of score)\n",
            "LR: 0.802350 (0.044780)\n",
            "RF: 0.851248 (0.081766)\n",
            "KNN: 0.690981 (0.130974)\n",
            "CART: 0.753423 (0.149284)\n",
            "SVR: -0.049536 (0.080025)\n"
          ]
        }
      ]
    },
    {
      "cell_type": "code",
      "source": [
        "X_train.info()"
      ],
      "metadata": {
        "colab": {
          "base_uri": "https://localhost:8080/"
        },
        "id": "JN06aO4En_EY",
        "outputId": "0bce4e4c-6b2b-4f7e-b385-6ca1b7acfebd"
      },
      "execution_count": 28,
      "outputs": [
        {
          "output_type": "stream",
          "name": "stdout",
          "text": [
            "<class 'pandas.core.frame.DataFrame'>\n",
            "Int64Index: 274 entries, 110 to 103\n",
            "Data columns (total 6 columns):\n",
            " #   Column        Non-Null Count  Dtype  \n",
            "---  ------        --------------  -----  \n",
            " 0   cylinders     274 non-null    int64  \n",
            " 1   displacement  274 non-null    float64\n",
            " 2   horsepower    274 non-null    float64\n",
            " 3   weight        274 non-null    float64\n",
            " 4   modelyear     274 non-null    int64  \n",
            " 5   origin        274 non-null    int64  \n",
            "dtypes: float64(3), int64(3)\n",
            "memory usage: 15.0 KB\n"
          ]
        }
      ]
    },
    {
      "cell_type": "code",
      "source": [
        "import statsmodels.api as sm\n",
        "\n",
        "X_train_opt = np.append(arr = np.ones((274,1)).astype(int), values = X_train, axis = 1)\n",
        "X_train_opt = X_train_opt[:,[0, 1, 2, 3, 4, 5, 6]]\n",
        "\n",
        "regressor_OLS = sm.OLS(endog = y_train, exog = X_train_opt).fit()\n",
        "regressor_OLS.summary()"
      ],
      "metadata": {
        "colab": {
          "base_uri": "https://localhost:8080/",
          "height": 588
        },
        "id": "kVYy6-wDjHWi",
        "outputId": "54e6ee82-44bc-4554-a0fa-0144491a0353"
      },
      "execution_count": 29,
      "outputs": [
        {
          "output_type": "execute_result",
          "data": {
            "text/plain": [
              "<class 'statsmodels.iolib.summary.Summary'>\n",
              "\"\"\"\n",
              "                            OLS Regression Results                            \n",
              "==============================================================================\n",
              "Dep. Variable:                    mpg   R-squared:                       0.822\n",
              "Model:                            OLS   Adj. R-squared:                  0.818\n",
              "Method:                 Least Squares   F-statistic:                     205.5\n",
              "Date:                Tue, 03 Jan 2023   Prob (F-statistic):           5.17e-97\n",
              "Time:                        13:38:20   Log-Likelihood:                -722.13\n",
              "No. Observations:                 274   AIC:                             1458.\n",
              "Df Residuals:                     267   BIC:                             1484.\n",
              "Df Model:                           6                                         \n",
              "Covariance Type:            nonrobust                                         \n",
              "==============================================================================\n",
              "                 coef    std err          t      P>|t|      [0.025      0.975]\n",
              "------------------------------------------------------------------------------\n",
              "const        -15.5027      5.402     -2.870      0.004     -26.138      -4.868\n",
              "x1            -0.3633      0.413     -0.880      0.379      -1.176       0.449\n",
              "x2             0.0154      0.009      1.640      0.102      -0.003       0.034\n",
              "x3            -0.0317      0.013     -2.455      0.015      -0.057      -0.006\n",
              "x4            -0.0059      0.001     -8.487      0.000      -0.007      -0.005\n",
              "x5             0.7401      0.065     11.391      0.000       0.612       0.868\n",
              "x6             1.6786      0.340      4.932      0.000       1.008       2.349\n",
              "==============================================================================\n",
              "Omnibus:                       26.843   Durbin-Watson:                   2.058\n",
              "Prob(Omnibus):                  0.000   Jarque-Bera (JB):               37.959\n",
              "Skew:                           0.651   Prob(JB):                     5.72e-09\n",
              "Kurtosis:                       4.277   Cond. No.                     8.14e+04\n",
              "==============================================================================\n",
              "\n",
              "Notes:\n",
              "[1] Standard Errors assume that the covariance matrix of the errors is correctly specified.\n",
              "[2] The condition number is large, 8.14e+04. This might indicate that there are\n",
              "strong multicollinearity or other numerical problems.\n",
              "\"\"\""
            ],
            "text/html": [
              "<table class=\"simpletable\">\n",
              "<caption>OLS Regression Results</caption>\n",
              "<tr>\n",
              "  <th>Dep. Variable:</th>           <td>mpg</td>       <th>  R-squared:         </th> <td>   0.822</td>\n",
              "</tr>\n",
              "<tr>\n",
              "  <th>Model:</th>                   <td>OLS</td>       <th>  Adj. R-squared:    </th> <td>   0.818</td>\n",
              "</tr>\n",
              "<tr>\n",
              "  <th>Method:</th>             <td>Least Squares</td>  <th>  F-statistic:       </th> <td>   205.5</td>\n",
              "</tr>\n",
              "<tr>\n",
              "  <th>Date:</th>             <td>Tue, 03 Jan 2023</td> <th>  Prob (F-statistic):</th> <td>5.17e-97</td>\n",
              "</tr>\n",
              "<tr>\n",
              "  <th>Time:</th>                 <td>13:38:20</td>     <th>  Log-Likelihood:    </th> <td> -722.13</td>\n",
              "</tr>\n",
              "<tr>\n",
              "  <th>No. Observations:</th>      <td>   274</td>      <th>  AIC:               </th> <td>   1458.</td>\n",
              "</tr>\n",
              "<tr>\n",
              "  <th>Df Residuals:</th>          <td>   267</td>      <th>  BIC:               </th> <td>   1484.</td>\n",
              "</tr>\n",
              "<tr>\n",
              "  <th>Df Model:</th>              <td>     6</td>      <th>                     </th>     <td> </td>   \n",
              "</tr>\n",
              "<tr>\n",
              "  <th>Covariance Type:</th>      <td>nonrobust</td>    <th>                     </th>     <td> </td>   \n",
              "</tr>\n",
              "</table>\n",
              "<table class=\"simpletable\">\n",
              "<tr>\n",
              "    <td></td>       <th>coef</th>     <th>std err</th>      <th>t</th>      <th>P>|t|</th>  <th>[0.025</th>    <th>0.975]</th>  \n",
              "</tr>\n",
              "<tr>\n",
              "  <th>const</th> <td>  -15.5027</td> <td>    5.402</td> <td>   -2.870</td> <td> 0.004</td> <td>  -26.138</td> <td>   -4.868</td>\n",
              "</tr>\n",
              "<tr>\n",
              "  <th>x1</th>    <td>   -0.3633</td> <td>    0.413</td> <td>   -0.880</td> <td> 0.379</td> <td>   -1.176</td> <td>    0.449</td>\n",
              "</tr>\n",
              "<tr>\n",
              "  <th>x2</th>    <td>    0.0154</td> <td>    0.009</td> <td>    1.640</td> <td> 0.102</td> <td>   -0.003</td> <td>    0.034</td>\n",
              "</tr>\n",
              "<tr>\n",
              "  <th>x3</th>    <td>   -0.0317</td> <td>    0.013</td> <td>   -2.455</td> <td> 0.015</td> <td>   -0.057</td> <td>   -0.006</td>\n",
              "</tr>\n",
              "<tr>\n",
              "  <th>x4</th>    <td>   -0.0059</td> <td>    0.001</td> <td>   -8.487</td> <td> 0.000</td> <td>   -0.007</td> <td>   -0.005</td>\n",
              "</tr>\n",
              "<tr>\n",
              "  <th>x5</th>    <td>    0.7401</td> <td>    0.065</td> <td>   11.391</td> <td> 0.000</td> <td>    0.612</td> <td>    0.868</td>\n",
              "</tr>\n",
              "<tr>\n",
              "  <th>x6</th>    <td>    1.6786</td> <td>    0.340</td> <td>    4.932</td> <td> 0.000</td> <td>    1.008</td> <td>    2.349</td>\n",
              "</tr>\n",
              "</table>\n",
              "<table class=\"simpletable\">\n",
              "<tr>\n",
              "  <th>Omnibus:</th>       <td>26.843</td> <th>  Durbin-Watson:     </th> <td>   2.058</td>\n",
              "</tr>\n",
              "<tr>\n",
              "  <th>Prob(Omnibus):</th> <td> 0.000</td> <th>  Jarque-Bera (JB):  </th> <td>  37.959</td>\n",
              "</tr>\n",
              "<tr>\n",
              "  <th>Skew:</th>          <td> 0.651</td> <th>  Prob(JB):          </th> <td>5.72e-09</td>\n",
              "</tr>\n",
              "<tr>\n",
              "  <th>Kurtosis:</th>      <td> 4.277</td> <th>  Cond. No.          </th> <td>8.14e+04</td>\n",
              "</tr>\n",
              "</table><br/><br/>Notes:<br/>[1] Standard Errors assume that the covariance matrix of the errors is correctly specified.<br/>[2] The condition number is large, 8.14e+04. This might indicate that there are<br/>strong multicollinearity or other numerical problems."
            ]
          },
          "metadata": {},
          "execution_count": 29
        }
      ]
    },
    {
      "cell_type": "code",
      "source": [],
      "metadata": {
        "id": "h-qRPl2smU3j"
      },
      "execution_count": 29,
      "outputs": []
    },
    {
      "cell_type": "code",
      "source": [
        "import statsmodels.api as sm\n",
        "\n",
        "X_train_opt = np.append(arr = np.ones((274,1)).astype(int), values = X_train, axis = 1)\n",
        "X_train_opt = X_train_opt[:,[0, 3, 4, 5, 6]]\n",
        "\n",
        "regressor_OLS = sm.OLS(endog = y_train, exog = X_train_opt).fit()\n",
        "regressor_OLS.summary()"
      ],
      "metadata": {
        "colab": {
          "base_uri": "https://localhost:8080/",
          "height": 546
        },
        "id": "b_OhQKY_kP2t",
        "outputId": "ff0914a2-dcba-45e4-b35e-ee948562ff04"
      },
      "execution_count": 30,
      "outputs": [
        {
          "output_type": "execute_result",
          "data": {
            "text/plain": [
              "<class 'statsmodels.iolib.summary.Summary'>\n",
              "\"\"\"\n",
              "                            OLS Regression Results                            \n",
              "==============================================================================\n",
              "Dep. Variable:                    mpg   R-squared:                       0.820\n",
              "Model:                            OLS   Adj. R-squared:                  0.817\n",
              "Method:                 Least Squares   F-statistic:                     306.6\n",
              "Date:                Tue, 03 Jan 2023   Prob (F-statistic):           6.86e-99\n",
              "Time:                        13:38:27   Log-Likelihood:                -723.58\n",
              "No. Observations:                 274   AIC:                             1457.\n",
              "Df Residuals:                     269   BIC:                             1475.\n",
              "Df Model:                           4                                         \n",
              "Covariance Type:            nonrobust                                         \n",
              "==============================================================================\n",
              "                 coef    std err          t      P>|t|      [0.025      0.975]\n",
              "------------------------------------------------------------------------------\n",
              "const        -16.2592      5.315     -3.059      0.002     -26.723      -5.795\n",
              "x1            -0.0219      0.011     -1.951      0.052      -0.044       0.000\n",
              "x2            -0.0053      0.001     -9.961      0.000      -0.006      -0.004\n",
              "x3             0.7308      0.065     11.317      0.000       0.604       0.858\n",
              "x4             1.4698      0.317      4.644      0.000       0.847       2.093\n",
              "==============================================================================\n",
              "Omnibus:                       28.827   Durbin-Watson:                   2.063\n",
              "Prob(Omnibus):                  0.000   Jarque-Bera (JB):               43.637\n",
              "Skew:                           0.661   Prob(JB):                     3.34e-10\n",
              "Kurtosis:                       4.441   Cond. No.                     7.98e+04\n",
              "==============================================================================\n",
              "\n",
              "Notes:\n",
              "[1] Standard Errors assume that the covariance matrix of the errors is correctly specified.\n",
              "[2] The condition number is large, 7.98e+04. This might indicate that there are\n",
              "strong multicollinearity or other numerical problems.\n",
              "\"\"\""
            ],
            "text/html": [
              "<table class=\"simpletable\">\n",
              "<caption>OLS Regression Results</caption>\n",
              "<tr>\n",
              "  <th>Dep. Variable:</th>           <td>mpg</td>       <th>  R-squared:         </th> <td>   0.820</td>\n",
              "</tr>\n",
              "<tr>\n",
              "  <th>Model:</th>                   <td>OLS</td>       <th>  Adj. R-squared:    </th> <td>   0.817</td>\n",
              "</tr>\n",
              "<tr>\n",
              "  <th>Method:</th>             <td>Least Squares</td>  <th>  F-statistic:       </th> <td>   306.6</td>\n",
              "</tr>\n",
              "<tr>\n",
              "  <th>Date:</th>             <td>Tue, 03 Jan 2023</td> <th>  Prob (F-statistic):</th> <td>6.86e-99</td>\n",
              "</tr>\n",
              "<tr>\n",
              "  <th>Time:</th>                 <td>13:38:27</td>     <th>  Log-Likelihood:    </th> <td> -723.58</td>\n",
              "</tr>\n",
              "<tr>\n",
              "  <th>No. Observations:</th>      <td>   274</td>      <th>  AIC:               </th> <td>   1457.</td>\n",
              "</tr>\n",
              "<tr>\n",
              "  <th>Df Residuals:</th>          <td>   269</td>      <th>  BIC:               </th> <td>   1475.</td>\n",
              "</tr>\n",
              "<tr>\n",
              "  <th>Df Model:</th>              <td>     4</td>      <th>                     </th>     <td> </td>   \n",
              "</tr>\n",
              "<tr>\n",
              "  <th>Covariance Type:</th>      <td>nonrobust</td>    <th>                     </th>     <td> </td>   \n",
              "</tr>\n",
              "</table>\n",
              "<table class=\"simpletable\">\n",
              "<tr>\n",
              "    <td></td>       <th>coef</th>     <th>std err</th>      <th>t</th>      <th>P>|t|</th>  <th>[0.025</th>    <th>0.975]</th>  \n",
              "</tr>\n",
              "<tr>\n",
              "  <th>const</th> <td>  -16.2592</td> <td>    5.315</td> <td>   -3.059</td> <td> 0.002</td> <td>  -26.723</td> <td>   -5.795</td>\n",
              "</tr>\n",
              "<tr>\n",
              "  <th>x1</th>    <td>   -0.0219</td> <td>    0.011</td> <td>   -1.951</td> <td> 0.052</td> <td>   -0.044</td> <td>    0.000</td>\n",
              "</tr>\n",
              "<tr>\n",
              "  <th>x2</th>    <td>   -0.0053</td> <td>    0.001</td> <td>   -9.961</td> <td> 0.000</td> <td>   -0.006</td> <td>   -0.004</td>\n",
              "</tr>\n",
              "<tr>\n",
              "  <th>x3</th>    <td>    0.7308</td> <td>    0.065</td> <td>   11.317</td> <td> 0.000</td> <td>    0.604</td> <td>    0.858</td>\n",
              "</tr>\n",
              "<tr>\n",
              "  <th>x4</th>    <td>    1.4698</td> <td>    0.317</td> <td>    4.644</td> <td> 0.000</td> <td>    0.847</td> <td>    2.093</td>\n",
              "</tr>\n",
              "</table>\n",
              "<table class=\"simpletable\">\n",
              "<tr>\n",
              "  <th>Omnibus:</th>       <td>28.827</td> <th>  Durbin-Watson:     </th> <td>   2.063</td>\n",
              "</tr>\n",
              "<tr>\n",
              "  <th>Prob(Omnibus):</th> <td> 0.000</td> <th>  Jarque-Bera (JB):  </th> <td>  43.637</td>\n",
              "</tr>\n",
              "<tr>\n",
              "  <th>Skew:</th>          <td> 0.661</td> <th>  Prob(JB):          </th> <td>3.34e-10</td>\n",
              "</tr>\n",
              "<tr>\n",
              "  <th>Kurtosis:</th>      <td> 4.441</td> <th>  Cond. No.          </th> <td>7.98e+04</td>\n",
              "</tr>\n",
              "</table><br/><br/>Notes:<br/>[1] Standard Errors assume that the covariance matrix of the errors is correctly specified.<br/>[2] The condition number is large, 7.98e+04. This might indicate that there are<br/>strong multicollinearity or other numerical problems."
            ]
          },
          "metadata": {},
          "execution_count": 30
        }
      ]
    },
    {
      "cell_type": "code",
      "source": [
        "import statsmodels.api as sm\n",
        "\n",
        "X_train_opt = np.append(arr = np.ones((274,1)).astype(int), values = X_train, axis = 1)\n",
        "X_train_opt = X_train_opt[:,[0, 3, 4, 5, 6]]\n",
        "\n",
        "regressor_OLS = sm.OLS(endog = y_train, exog = X_train_opt).fit()\n",
        "regressor_OLS.summary()"
      ],
      "metadata": {
        "colab": {
          "base_uri": "https://localhost:8080/",
          "height": 546
        },
        "id": "dZ299_-IsEMe",
        "outputId": "e72b7b2f-3512-4955-8372-b5e7e734718b"
      },
      "execution_count": 31,
      "outputs": [
        {
          "output_type": "execute_result",
          "data": {
            "text/plain": [
              "<class 'statsmodels.iolib.summary.Summary'>\n",
              "\"\"\"\n",
              "                            OLS Regression Results                            \n",
              "==============================================================================\n",
              "Dep. Variable:                    mpg   R-squared:                       0.820\n",
              "Model:                            OLS   Adj. R-squared:                  0.817\n",
              "Method:                 Least Squares   F-statistic:                     306.6\n",
              "Date:                Tue, 03 Jan 2023   Prob (F-statistic):           6.86e-99\n",
              "Time:                        13:38:31   Log-Likelihood:                -723.58\n",
              "No. Observations:                 274   AIC:                             1457.\n",
              "Df Residuals:                     269   BIC:                             1475.\n",
              "Df Model:                           4                                         \n",
              "Covariance Type:            nonrobust                                         \n",
              "==============================================================================\n",
              "                 coef    std err          t      P>|t|      [0.025      0.975]\n",
              "------------------------------------------------------------------------------\n",
              "const        -16.2592      5.315     -3.059      0.002     -26.723      -5.795\n",
              "x1            -0.0219      0.011     -1.951      0.052      -0.044       0.000\n",
              "x2            -0.0053      0.001     -9.961      0.000      -0.006      -0.004\n",
              "x3             0.7308      0.065     11.317      0.000       0.604       0.858\n",
              "x4             1.4698      0.317      4.644      0.000       0.847       2.093\n",
              "==============================================================================\n",
              "Omnibus:                       28.827   Durbin-Watson:                   2.063\n",
              "Prob(Omnibus):                  0.000   Jarque-Bera (JB):               43.637\n",
              "Skew:                           0.661   Prob(JB):                     3.34e-10\n",
              "Kurtosis:                       4.441   Cond. No.                     7.98e+04\n",
              "==============================================================================\n",
              "\n",
              "Notes:\n",
              "[1] Standard Errors assume that the covariance matrix of the errors is correctly specified.\n",
              "[2] The condition number is large, 7.98e+04. This might indicate that there are\n",
              "strong multicollinearity or other numerical problems.\n",
              "\"\"\""
            ],
            "text/html": [
              "<table class=\"simpletable\">\n",
              "<caption>OLS Regression Results</caption>\n",
              "<tr>\n",
              "  <th>Dep. Variable:</th>           <td>mpg</td>       <th>  R-squared:         </th> <td>   0.820</td>\n",
              "</tr>\n",
              "<tr>\n",
              "  <th>Model:</th>                   <td>OLS</td>       <th>  Adj. R-squared:    </th> <td>   0.817</td>\n",
              "</tr>\n",
              "<tr>\n",
              "  <th>Method:</th>             <td>Least Squares</td>  <th>  F-statistic:       </th> <td>   306.6</td>\n",
              "</tr>\n",
              "<tr>\n",
              "  <th>Date:</th>             <td>Tue, 03 Jan 2023</td> <th>  Prob (F-statistic):</th> <td>6.86e-99</td>\n",
              "</tr>\n",
              "<tr>\n",
              "  <th>Time:</th>                 <td>13:38:31</td>     <th>  Log-Likelihood:    </th> <td> -723.58</td>\n",
              "</tr>\n",
              "<tr>\n",
              "  <th>No. Observations:</th>      <td>   274</td>      <th>  AIC:               </th> <td>   1457.</td>\n",
              "</tr>\n",
              "<tr>\n",
              "  <th>Df Residuals:</th>          <td>   269</td>      <th>  BIC:               </th> <td>   1475.</td>\n",
              "</tr>\n",
              "<tr>\n",
              "  <th>Df Model:</th>              <td>     4</td>      <th>                     </th>     <td> </td>   \n",
              "</tr>\n",
              "<tr>\n",
              "  <th>Covariance Type:</th>      <td>nonrobust</td>    <th>                     </th>     <td> </td>   \n",
              "</tr>\n",
              "</table>\n",
              "<table class=\"simpletable\">\n",
              "<tr>\n",
              "    <td></td>       <th>coef</th>     <th>std err</th>      <th>t</th>      <th>P>|t|</th>  <th>[0.025</th>    <th>0.975]</th>  \n",
              "</tr>\n",
              "<tr>\n",
              "  <th>const</th> <td>  -16.2592</td> <td>    5.315</td> <td>   -3.059</td> <td> 0.002</td> <td>  -26.723</td> <td>   -5.795</td>\n",
              "</tr>\n",
              "<tr>\n",
              "  <th>x1</th>    <td>   -0.0219</td> <td>    0.011</td> <td>   -1.951</td> <td> 0.052</td> <td>   -0.044</td> <td>    0.000</td>\n",
              "</tr>\n",
              "<tr>\n",
              "  <th>x2</th>    <td>   -0.0053</td> <td>    0.001</td> <td>   -9.961</td> <td> 0.000</td> <td>   -0.006</td> <td>   -0.004</td>\n",
              "</tr>\n",
              "<tr>\n",
              "  <th>x3</th>    <td>    0.7308</td> <td>    0.065</td> <td>   11.317</td> <td> 0.000</td> <td>    0.604</td> <td>    0.858</td>\n",
              "</tr>\n",
              "<tr>\n",
              "  <th>x4</th>    <td>    1.4698</td> <td>    0.317</td> <td>    4.644</td> <td> 0.000</td> <td>    0.847</td> <td>    2.093</td>\n",
              "</tr>\n",
              "</table>\n",
              "<table class=\"simpletable\">\n",
              "<tr>\n",
              "  <th>Omnibus:</th>       <td>28.827</td> <th>  Durbin-Watson:     </th> <td>   2.063</td>\n",
              "</tr>\n",
              "<tr>\n",
              "  <th>Prob(Omnibus):</th> <td> 0.000</td> <th>  Jarque-Bera (JB):  </th> <td>  43.637</td>\n",
              "</tr>\n",
              "<tr>\n",
              "  <th>Skew:</th>          <td> 0.661</td> <th>  Prob(JB):          </th> <td>3.34e-10</td>\n",
              "</tr>\n",
              "<tr>\n",
              "  <th>Kurtosis:</th>      <td> 4.441</td> <th>  Cond. No.          </th> <td>7.98e+04</td>\n",
              "</tr>\n",
              "</table><br/><br/>Notes:<br/>[1] Standard Errors assume that the covariance matrix of the errors is correctly specified.<br/>[2] The condition number is large, 7.98e+04. This might indicate that there are<br/>strong multicollinearity or other numerical problems."
            ]
          },
          "metadata": {},
          "execution_count": 31
        }
      ]
    },
    {
      "cell_type": "code",
      "source": [
        "X_train2 = X_train.iloc[:,[2,3, 4, 5]]\n",
        "X_test2 = X_test.iloc[:,[2,3, 4, 5]]"
      ],
      "metadata": {
        "id": "BApCjEHFk8-0"
      },
      "execution_count": 32,
      "outputs": []
    },
    {
      "cell_type": "code",
      "source": [
        "rf = RandomForestRegressor(n_estimators = 10)\n",
        "rf.fit(X_train2,y_train)\n",
        "y_pred = rf.predict(X_test2)\n",
        "\n",
        "import matplotlib.gridspec as gridspec\n",
        "\n",
        "fig = plt.figure(figsize=(12,5))\n",
        "grid = gridspec.GridSpec(ncols=2, nrows=1, figure=fig)\n",
        "\n",
        "ax1 = fig.add_subplot(grid[0, 0])\n",
        "ax2 = fig.add_subplot(grid[0, 1])\n",
        "\n",
        "sns.scatterplot(x = y_test['mpg'], y = y_pred, ax=ax1)\n",
        "sns.regplot(x = y_test['mpg'], y=y_pred, ax=ax1)\n",
        "\n",
        "ax1.set_title(\"Log of Predictions vs. actuals\")\n",
        "ax1.set_xlabel('Actual MPG')\n",
        "ax1.set_ylabel('predicted MPG')\n",
        "\n",
        "sns.scatterplot(x = np.exp(y_test['mpg']), y = np.exp(y_pred), ax=ax2,)\n",
        "sns.regplot(x = np.exp(y_test['mpg']), y=np.exp(y_pred), ax=ax2)\n",
        "\n",
        "ax2.set_title(\"Real values of Predictions vs. actuals\")\n",
        "ax2.set_xlabel('Actual MPG')\n",
        "ax2.set_ylabel('predicted MPG')"
      ],
      "metadata": {
        "colab": {
          "base_uri": "https://localhost:8080/",
          "height": 368
        },
        "id": "yLkT_v11tC85",
        "outputId": "47733067-a447-495c-d261-fa13615673cc"
      },
      "execution_count": 33,
      "outputs": [
        {
          "output_type": "execute_result",
          "data": {
            "text/plain": [
              "Text(0, 0.5, 'predicted MPG')"
            ]
          },
          "metadata": {},
          "execution_count": 33
        },
        {
          "output_type": "display_data",
          "data": {
            "text/plain": [
              "<Figure size 864x360 with 2 Axes>"
            ],
            "image/png": "[encoded data removed]"
          },
          "metadata": {
            "needs_background": "light"
          }
        }
      ]
    },
    {
      "cell_type": "code",
      "source": [
        "print('MAE:', metrics.mean_absolute_error(y_test, y_pred))\n",
        "print('MSE:', metrics.mean_squared_error(y_test, y_pred))\n",
        "print('RMSE:', np.sqrt(metrics.mean_squared_error(y_test, y_pred)))"
      ],
      "metadata": {
        "colab": {
          "base_uri": "https://localhost:8080/"
        },
        "id": "0EgAm0njufuG",
        "outputId": "65c6efbf-cdb4-49b7-a34d-d4411e1b6d40"
      },
      "execution_count": 34,
      "outputs": [
        {
          "output_type": "stream",
          "name": "stdout",
          "text": [
            "MAE: 1.9196468926553674\n",
            "MSE: 6.705822434086631\n",
            "RMSE: 2.5895602781334577\n"
          ]
        }
      ]
    },
    {
      "cell_type": "code",
      "source": [
        "!pip install lazypredict"
      ],
      "metadata": {
        "id": "tp4tPV-kEp5i",
        "outputId": "7ddfb246-cd2b-4e2f-cf67-df4dd50cb005",
        "colab": {
          "base_uri": "https://localhost:8080/"
        }
      },
      "execution_count": 35,
      "outputs": [
        {
          "output_type": "stream",
          "name": "stdout",
          "text": [
            "Looking in indexes: https://pypi.org/simple, https://us-python.pkg.dev/colab-wheels/public/simple/\n",
            "Collecting lazypredict\n",
            "  Downloading lazypredict-0.2.12-py2.py3-none-any.whl (12 kB)\n",
            "Requirement already satisfied: xgboost in /usr/local/lib/python3.8/dist-packages (from lazypredict) (0.90)\n",
            "Requirement already satisfied: lightgbm in /usr/local/lib/python3.8/dist-packages (from lazypredict) (2.2.3)\n",
            "Requirement already satisfied: joblib in /usr/local/lib/python3.8/dist-packages (from lazypredict) (1.2.0)\n",
            "Requirement already satisfied: click in /usr/local/lib/python3.8/dist-packages (from lazypredict) (7.1.2)\n",
            "Requirement already satisfied: tqdm in /usr/local/lib/python3.8/dist-packages (from lazypredict) (4.64.1)\n",
            "Requirement already satisfied: scikit-learn in /usr/local/lib/python3.8/dist-packages (from lazypredict) (1.0.2)\n",
            "Requirement already satisfied: pandas in /usr/local/lib/python3.8/dist-packages (from lazypredict) (1.3.5)\n",
            "Requirement already satisfied: numpy in /usr/local/lib/python3.8/dist-packages (from lightgbm->lazypredict) (1.21.6)\n",
            "Requirement already satisfied: scipy in /usr/local/lib/python3.8/dist-packages (from lightgbm->lazypredict) (1.7.3)\n",
            "Requirement already satisfied: pytz>=2017.3 in /usr/local/lib/python3.8/dist-packages (from pandas->lazypredict) (2022.6)\n",
            "Requirement already satisfied: python-dateutil>=2.7.3 in /usr/local/lib/python3.8/dist-packages (from pandas->lazypredict) (2.8.2)\n",
            "Requirement already satisfied: six>=1.5 in /usr/local/lib/python3.8/dist-packages (from python-dateutil>=2.7.3->pandas->lazypredict) (1.15.0)\n",
            "Requirement already satisfied: threadpoolctl>=2.0.0 in /usr/local/lib/python3.8/dist-packages (from scikit-learn->lazypredict) (3.1.0)\n",
            "Installing collected packages: lazypredict\n",
            "Successfully installed lazypredict-0.2.12\n"
          ]
        }
      ]
    },
    {
      "cell_type": "code",
      "source": [
        "import lazypredict \n",
        "from lazypredict.Supervised import LazyRegressor\n",
        "clf = LazyRegressor(verbose=0,ignore_warnings=True)\n",
        "models, predictions = clf.fit(X_train, X_test, y_train, y_test)\n",
        "models"
      ],
      "metadata": {
        "colab": {
          "base_uri": "https://localhost:8080/",
          "height": 1000
        },
        "id": "13rdzGK0ENyw",
        "outputId": "78e337d5-b58b-44d7-d8c1-b95d66f1f88c"
      },
      "execution_count": 36,
      "outputs": [
        {
          "output_type": "stream",
          "name": "stderr",
          "text": [
            "100%|██████████| 42/42 [00:02<00:00, 14.90it/s]"
          ]
        },
        {
          "output_type": "stream",
          "name": "stdout",
          "text": [
            "[13:39:07] WARNING: /workspace/src/objective/regression_obj.cu:152: reg:linear is now deprecated in favor of reg:squarederror.\n"
          ]
        },
        {
          "output_type": "stream",
          "name": "stderr",
          "text": [
            "\n"
          ]
        },
        {
          "output_type": "execute_result",
          "data": {
            "text/plain": [
              "                               Adjusted R-Squared  R-Squared  RMSE  Time Taken\n",
              "Model                                                                         \n",
              "LGBMRegressor                                0.86       0.87  2.63        0.04\n",
              "RandomForestRegressor                        0.86       0.87  2.64        0.17\n",
              "HistGradientBoostingRegressor                0.86       0.87  2.65        0.16\n",
              "KNeighborsRegressor                          0.86       0.87  2.67        0.01\n",
              "ExtraTreesRegressor                          0.86       0.86  2.69        0.11\n",
              "BaggingRegressor                             0.85       0.86  2.70        0.03\n",
              "SVR                                          0.85       0.86  2.72        0.03\n",
              "NuSVR                                        0.85       0.86  2.75        0.02\n",
              "PoissonRegressor                             0.84       0.85  2.80        0.02\n",
              "GradientBoostingRegressor                    0.83       0.84  2.90        0.06\n",
              "XGBRegressor                                 0.83       0.84  2.93        0.12\n",
              "AdaBoostRegressor                            0.82       0.83  3.02        0.08\n",
              "HuberRegressor                               0.80       0.81  3.15        0.02\n",
              "Lasso                                        0.80       0.81  3.16        0.03\n",
              "OrthogonalMatchingPursuitCV                  0.80       0.81  3.17        0.02\n",
              "LassoLarsCV                                  0.80       0.81  3.18        0.02\n",
              "TransformedTargetRegressor                   0.80       0.81  3.18        0.01\n",
              "LinearRegression                             0.80       0.81  3.18        0.01\n",
              "LassoCV                                      0.80       0.81  3.19        0.05\n",
              "RidgeCV                                      0.80       0.81  3.19        0.01\n",
              "Ridge                                        0.80       0.81  3.19        0.01\n",
              "BayesianRidge                                0.80       0.81  3.19        0.01\n",
              "ElasticNetCV                                 0.80       0.81  3.20        0.04\n",
              "SGDRegressor                                 0.79       0.80  3.22        0.01\n",
              "LassoLarsIC                                  0.79       0.80  3.22        0.01\n",
              "LinearSVR                                    0.79       0.80  3.23        0.01\n",
              "GammaRegressor                               0.79       0.80  3.28        0.01\n",
              "LarsCV                                       0.77       0.78  3.37        0.04\n",
              "DecisionTreeRegressor                        0.76       0.77  3.50        0.01\n",
              "ExtraTreeRegressor                           0.75       0.77  3.51        0.01\n",
              "ElasticNet                                   0.75       0.77  3.52        0.01\n",
              "TweedieRegressor                             0.74       0.76  3.60        0.01\n",
              "RANSACRegressor                              0.72       0.74  3.72        0.03\n",
              "PassiveAggressiveRegressor                   0.71       0.73  3.80        0.01\n",
              "OrthogonalMatchingPursuit                    0.65       0.67  4.21        0.01\n",
              "MLPRegressor                                 0.38       0.41  5.58        0.52\n",
              "QuantileRegressor                           -0.05      -0.00  7.27        0.92\n",
              "DummyRegressor                              -0.06      -0.01  7.30        0.01\n",
              "LassoLars                                   -0.06      -0.01  7.30        0.01\n",
              "KernelRidge                                 -9.90      -9.34 23.39        0.03\n",
              "Lars                                       -10.38      -9.80 23.90        0.03\n",
              "GaussianProcessRegressor                   -64.74     -61.37 57.44        0.02"
            ],
            "text/html": [
              "\n",
              "  <div id=\"df-11e20e40-15f4-45d9-aca2-399dde2f50f8\">\n",
              "    <div class=\"colab-df-container\">\n",
              "      <div>\n",
              "<style scoped>\n",
              "    .dataframe tbody tr th:only-of-type {\n",
              "        vertical-align: middle;\n",
              "    }\n",
              "\n",
              "    .dataframe tbody tr th {\n",
              "        vertical-align: top;\n",
              "    }\n",
              "\n",
              "    .dataframe thead th {\n",
              "        text-align: right;\n",
              "    }\n",
              "</style>\n",
              "<table border=\"1\" class=\"dataframe\">\n",
              "  <thead>\n",
              "    <tr style=\"text-align: right;\">\n",
              "      <th></th>\n",
              "      <th>Adjusted R-Squared</th>\n",
              "      <th>R-Squared</th>\n",
              "      <th>RMSE</th>\n",
              "      <th>Time Taken</th>\n",
              "    </tr>\n",
              "    <tr>\n",
              "      <th>Model</th>\n",
              "      <th></th>\n",
              "      <th></th>\n",
              "      <th></th>\n",
              "      <th></th>\n",
              "    </tr>\n",
              "  </thead>\n",
              "  <tbody>\n",
              "    <tr>\n",
              "      <th>LGBMRegressor</th>\n",
              "      <td>0.86</td>\n",
              "      <td>0.87</td>\n",
              "      <td>2.63</td>\n",
              "      <td>0.04</td>\n",
              "    </tr>\n",
              "    <tr>\n",
              "      <th>RandomForestRegressor</th>\n",
              "      <td>0.86</td>\n",
              "      <td>0.87</td>\n",
              "      <td>2.64</td>\n",
              "      <td>0.17</td>\n",
              "    </tr>\n",
              "    <tr>\n",
              "      <th>HistGradientBoostingRegressor</th>\n",
              "      <td>0.86</td>\n",
              "      <td>0.87</td>\n",
              "      <td>2.65</td>\n",
              "      <td>0.16</td>\n",
              "    </tr>\n",
              "    <tr>\n",
              "      <th>KNeighborsRegressor</th>\n",
              "      <td>0.86</td>\n",
              "      <td>0.87</td>\n",
              "      <td>2.67</td>\n",
              "      <td>0.01</td>\n",
              "    </tr>\n",
              "    <tr>\n",
              "      <th>ExtraTreesRegressor</th>\n",
              "      <td>0.86</td>\n",
              "      <td>0.86</td>\n",
              "      <td>2.69</td>\n",
              "      <td>0.11</td>\n",
              "    </tr>\n",
              "    <tr>\n",
              "      <th>BaggingRegressor</th>\n",
              "      <td>0.85</td>\n",
              "      <td>0.86</td>\n",
              "      <td>2.70</td>\n",
              "      <td>0.03</td>\n",
              "    </tr>\n",
              "    <tr>\n",
              "      <th>SVR</th>\n",
              "      <td>0.85</td>\n",
              "      <td>0.86</td>\n",
              "      <td>2.72</td>\n",
              "      <td>0.03</td>\n",
              "    </tr>\n",
              "    <tr>\n",
              "      <th>NuSVR</th>\n",
              "      <td>0.85</td>\n",
              "      <td>0.86</td>\n",
              "      <td>2.75</td>\n",
              "      <td>0.02</td>\n",
              "    </tr>\n",
              "    <tr>\n",
              "      <th>PoissonRegressor</th>\n",
              "      <td>0.84</td>\n",
              "      <td>0.85</td>\n",
              "      <td>2.80</td>\n",
              "      <td>0.02</td>\n",
              "    </tr>\n",
              "    <tr>\n",
              "      <th>GradientBoostingRegressor</th>\n",
              "      <td>0.83</td>\n",
              "      <td>0.84</td>\n",
              "      <td>2.90</td>\n",
              "      <td>0.06</td>\n",
              "    </tr>\n",
              "    <tr>\n",
              "      <th>XGBRegressor</th>\n",
              "      <td>0.83</td>\n",
              "      <td>0.84</td>\n",
              "      <td>2.93</td>\n",
              "      <td>0.12</td>\n",
              "    </tr>\n",
              "    <tr>\n",
              "      <th>AdaBoostRegressor</th>\n",
              "      <td>0.82</td>\n",
              "      <td>0.83</td>\n",
              "      <td>3.02</td>\n",
              "      <td>0.08</td>\n",
              "    </tr>\n",
              "    <tr>\n",
              "      <th>HuberRegressor</th>\n",
              "      <td>0.80</td>\n",
              "      <td>0.81</td>\n",
              "      <td>3.15</td>\n",
              "      <td>0.02</td>\n",
              "    </tr>\n",
              "    <tr>\n",
              "      <th>Lasso</th>\n",
              "      <td>0.80</td>\n",
              "      <td>0.81</td>\n",
              "      <td>3.16</td>\n",
              "      <td>0.03</td>\n",
              "    </tr>\n",
              "    <tr>\n",
              "      <th>OrthogonalMatchingPursuitCV</th>\n",
              "      <td>0.80</td>\n",
              "      <td>0.81</td>\n",
              "      <td>3.17</td>\n",
              "      <td>0.02</td>\n",
              "    </tr>\n",
              "    <tr>\n",
              "      <th>LassoLarsCV</th>\n",
              "      <td>0.80</td>\n",
              "      <td>0.81</td>\n",
              "      <td>3.18</td>\n",
              "      <td>0.02</td>\n",
              "    </tr>\n",
              "    <tr>\n",
              "      <th>TransformedTargetRegressor</th>\n",
              "      <td>0.80</td>\n",
              "      <td>0.81</td>\n",
              "      <td>3.18</td>\n",
              "      <td>0.01</td>\n",
              "    </tr>\n",
              "    <tr>\n",
              "      <th>LinearRegression</th>\n",
              "      <td>0.80</td>\n",
              "      <td>0.81</td>\n",
              "      <td>3.18</td>\n",
              "      <td>0.01</td>\n",
              "    </tr>\n",
              "    <tr>\n",
              "      <th>LassoCV</th>\n",
              "      <td>0.80</td>\n",
              "      <td>0.81</td>\n",
              "      <td>3.19</td>\n",
              "      <td>0.05</td>\n",
              "    </tr>\n",
              "    <tr>\n",
              "      <th>RidgeCV</th>\n",
              "      <td>0.80</td>\n",
              "      <td>0.81</td>\n",
              "      <td>3.19</td>\n",
              "      <td>0.01</td>\n",
              "    </tr>\n",
              "    <tr>\n",
              "      <th>Ridge</th>\n",
              "      <td>0.80</td>\n",
              "      <td>0.81</td>\n",
              "      <td>3.19</td>\n",
              "      <td>0.01</td>\n",
              "    </tr>\n",
              "    <tr>\n",
              "      <th>BayesianRidge</th>\n",
              "      <td>0.80</td>\n",
              "      <td>0.81</td>\n",
              "      <td>3.19</td>\n",
              "      <td>0.01</td>\n",
              "    </tr>\n",
              "    <tr>\n",
              "      <th>ElasticNetCV</th>\n",
              "      <td>0.80</td>\n",
              "      <td>0.81</td>\n",
              "      <td>3.20</td>\n",
              "      <td>0.04</td>\n",
              "    </tr>\n",
              "    <tr>\n",
              "      <th>SGDRegressor</th>\n",
              "      <td>0.79</td>\n",
              "      <td>0.80</td>\n",
              "      <td>3.22</td>\n",
              "      <td>0.01</td>\n",
              "    </tr>\n",
              "    <tr>\n",
              "      <th>LassoLarsIC</th>\n",
              "      <td>0.79</td>\n",
              "      <td>0.80</td>\n",
              "      <td>3.22</td>\n",
              "      <td>0.01</td>\n",
              "    </tr>\n",
              "    <tr>\n",
              "      <th>LinearSVR</th>\n",
              "      <td>0.79</td>\n",
              "      <td>0.80</td>\n",
              "      <td>3.23</td>\n",
              "      <td>0.01</td>\n",
              "    </tr>\n",
              "    <tr>\n",
              "      <th>GammaRegressor</th>\n",
              "      <td>0.79</td>\n",
              "      <td>0.80</td>\n",
              "      <td>3.28</td>\n",
              "      <td>0.01</td>\n",
              "    </tr>\n",
              "    <tr>\n",
              "      <th>LarsCV</th>\n",
              "      <td>0.77</td>\n",
              "      <td>0.78</td>\n",
              "      <td>3.37</td>\n",
              "      <td>0.04</td>\n",
              "    </tr>\n",
              "    <tr>\n",
              "      <th>DecisionTreeRegressor</th>\n",
              "      <td>0.76</td>\n",
              "      <td>0.77</td>\n",
              "      <td>3.50</td>\n",
              "      <td>0.01</td>\n",
              "    </tr>\n",
              "    <tr>\n",
              "      <th>ExtraTreeRegressor</th>\n",
              "      <td>0.75</td>\n",
              "      <td>0.77</td>\n",
              "      <td>3.51</td>\n",
              "      <td>0.01</td>\n",
              "    </tr>\n",
              "    <tr>\n",
              "      <th>ElasticNet</th>\n",
              "      <td>0.75</td>\n",
              "      <td>0.77</td>\n",
              "      <td>3.52</td>\n",
              "      <td>0.01</td>\n",
              "    </tr>\n",
              "    <tr>\n",
              "      <th>TweedieRegressor</th>\n",
              "      <td>0.74</td>\n",
              "      <td>0.76</td>\n",
              "      <td>3.60</td>\n",
              "      <td>0.01</td>\n",
              "    </tr>\n",
              "    <tr>\n",
              "      <th>RANSACRegressor</th>\n",
              "      <td>0.72</td>\n",
              "      <td>0.74</td>\n",
              "      <td>3.72</td>\n",
              "      <td>0.03</td>\n",
              "    </tr>\n",
              "    <tr>\n",
              "      <th>PassiveAggressiveRegressor</th>\n",
              "      <td>0.71</td>\n",
              "      <td>0.73</td>\n",
              "      <td>3.80</td>\n",
              "      <td>0.01</td>\n",
              "    </tr>\n",
              "    <tr>\n",
              "      <th>OrthogonalMatchingPursuit</th>\n",
              "      <td>0.65</td>\n",
              "      <td>0.67</td>\n",
              "      <td>4.21</td>\n",
              "      <td>0.01</td>\n",
              "    </tr>\n",
              "    <tr>\n",
              "      <th>MLPRegressor</th>\n",
              "      <td>0.38</td>\n",
              "      <td>0.41</td>\n",
              "      <td>5.58</td>\n",
              "      <td>0.52</td>\n",
              "    </tr>\n",
              "    <tr>\n",
              "      <th>QuantileRegressor</th>\n",
              "      <td>-0.05</td>\n",
              "      <td>-0.00</td>\n",
              "      <td>7.27</td>\n",
              "      <td>0.92</td>\n",
              "    </tr>\n",
              "    <tr>\n",
              "      <th>DummyRegressor</th>\n",
              "      <td>-0.06</td>\n",
              "      <td>-0.01</td>\n",
              "      <td>7.30</td>\n",
              "      <td>0.01</td>\n",
              "    </tr>\n",
              "    <tr>\n",
              "      <th>LassoLars</th>\n",
              "      <td>-0.06</td>\n",
              "      <td>-0.01</td>\n",
              "      <td>7.30</td>\n",
              "      <td>0.01</td>\n",
              "    </tr>\n",
              "    <tr>\n",
              "      <th>KernelRidge</th>\n",
              "      <td>-9.90</td>\n",
              "      <td>-9.34</td>\n",
              "      <td>23.39</td>\n",
              "      <td>0.03</td>\n",
              "    </tr>\n",
              "    <tr>\n",
              "      <th>Lars</th>\n",
              "      <td>-10.38</td>\n",
              "      <td>-9.80</td>\n",
              "      <td>23.90</td>\n",
              "      <td>0.03</td>\n",
              "    </tr>\n",
              "    <tr>\n",
              "      <th>GaussianProcessRegressor</th>\n",
              "      <td>-64.74</td>\n",
              "      <td>-61.37</td>\n",
              "      <td>57.44</td>\n",
              "      <td>0.02</td>\n",
              "    </tr>\n",
              "  </tbody>\n",
              "</table>\n",
              "</div>\n",
              "      <button class=\"colab-df-convert\" onclick=\"convertToInteractive('df-11e20e40-15f4-45d9-aca2-399dde2f50f8')\"\n",
              "              title=\"Convert this dataframe to an interactive table.\"\n",
              "              style=\"display:none;\">\n",
              "        \n",
              "  <svg xmlns=\"http://www.w3.org/2000/svg\" height=\"24px\"viewBox=\"0 0 24 24\"\n",
              "       width=\"24px\">\n",
              "    <path d=\"M0 0h24v24H0V0z\" fill=\"none\"/>\n",
              "    <path d=\"M18.56 5.44l.94 2.06.94-2.06 2.06-.94-2.06-.94-.94-2.06-.94 2.06-2.06.94zm-11 1L8.5 8.5l.94-2.06 2.06-.94-2.06-.94L8.5 2.5l-.94 2.06-2.06.94zm10 10l.94 2.06.94-2.06 2.06-.94-2.06-.94-.94-2.06-.94 2.06-2.06.94z\"/><path d=\"M17.41 7.96l-1.37-1.37c-.4-.4-.92-.59-1.43-.59-.52 0-1.04.2-1.43.59L10.3 9.45l-7.72 7.72c-.78.78-.78 2.05 0 2.83L4 21.41c.39.39.9.59 1.41.59.51 0 1.02-.2 1.41-.59l7.78-7.78 2.81-2.81c.8-.78.8-2.07 0-2.86zM5.41 20L4 18.59l7.72-7.72 1.47 1.35L5.41 20z\"/>\n",
              "  </svg>\n",
              "      </button>\n",
              "      \n",
              "  <style>\n",
              "    .colab-df-container {\n",
              "      display:flex;\n",
              "      flex-wrap:wrap;\n",
              "      gap: 12px;\n",
              "    }\n",
              "\n",
              "    .colab-df-convert {\n",
              "      background-color: #E8F0FE;\n",
              "      border: none;\n",
              "      border-radius: 50%;\n",
              "      cursor: pointer;\n",
              "      display: none;\n",
              "      fill: #1967D2;\n",
              "      height: 32px;\n",
              "      padding: 0 0 0 0;\n",
              "      width: 32px;\n",
              "    }\n",
              "\n",
              "    .colab-df-convert:hover {\n",
              "      background-color: #E2EBFA;\n",
              "      box-shadow: 0px 1px 2px rgba(60, 64, 67, 0.3), 0px 1px 3px 1px rgba(60, 64, 67, 0.15);\n",
              "      fill: #174EA6;\n",
              "    }\n",
              "\n",
              "    [theme=dark] .colab-df-convert {\n",
              "      background-color: #3B4455;\n",
              "      fill: #D2E3FC;\n",
              "    }\n",
              "\n",
              "    [theme=dark] .colab-df-convert:hover {\n",
              "      background-color: #434B5C;\n",
              "      box-shadow: 0px 1px 3px 1px rgba(0, 0, 0, 0.15);\n",
              "      filter: drop-shadow(0px 1px 2px rgba(0, 0, 0, 0.3));\n",
              "      fill: #FFFFFF;\n",
              "    }\n",
              "  </style>\n",
              "\n",
              "      <script>\n",
              "        const buttonEl =\n",
              "          document.querySelector('#df-11e20e40-15f4-45d9-aca2-399dde2f50f8 button.colab-df-convert');\n",
              "        buttonEl.style.display =\n",
              "          google.colab.kernel.accessAllowed ? 'block' : 'none';\n",
              "\n",
              "        async function convertToInteractive(key) {\n",
              "          const element = document.querySelector('#df-11e20e40-15f4-45d9-aca2-399dde2f50f8');\n",
              "          const dataTable =\n",
              "            await google.colab.kernel.invokeFunction('convertToInteractive',\n",
              "                                                     [key], {});\n",
              "          if (!dataTable) return;\n",
              "\n",
              "          const docLinkHtml = 'Like what you see? Visit the ' +\n",
              "            '<a target=\"_blank\" href=https://colab.research.google.com/notebooks/data_table.ipynb>data table notebook</a>'\n",
              "            + ' to learn more about interactive tables.';\n",
              "          element.innerHTML = '';\n",
              "          dataTable['output_type'] = 'display_data';\n",
              "          await google.colab.output.renderOutput(dataTable, element);\n",
              "          const docLink = document.createElement('div');\n",
              "          docLink.innerHTML = docLinkHtml;\n",
              "          element.appendChild(docLink);\n",
              "        }\n",
              "      </script>\n",
              "    </div>\n",
              "  </div>\n",
              "  "
            ]
          },
          "metadata": {},
          "execution_count": 36
        }
      ]
    }
  ]
}